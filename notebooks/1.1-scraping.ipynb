{
 "cells": [
  {
   "cell_type": "markdown",
   "metadata": {},
   "source": [
    "-----\n",
    "\n",
    "### Onto the Scraping!\n",
    "#### gameplan -\n",
    "\n",
    "While Spotify's documentation doesn't directly state what their call rate limit is, a little digging seems to indicate a few hundred calls per minute should go through without issue.  If needed, we'll play around with our call delays and see if/when we get bumped.\n",
    "\n",
    "Rather than query each song individually, we can query the artist and receive batches of 50 songs and their spotify uids.  (The api call limits us to 50 results per call)  The call allows for an offset to where the return data picks up, so if an artist has 300 tracks, we can call the same artist and offset by 50 each consecutive time until we get the track ids needed.\n",
    "\n",
    "We'll query an artist, log their artist uid and the 50 tracks returned from the first call.  If those results include all the tracks we need, then we progress to the next artist, otherwise we call again with the offset increased by 50."
   ]
  },
  {
   "cell_type": "code",
   "execution_count": 1,
   "metadata": {},
   "outputs": [],
   "source": [
    "import pandas as pd\n",
    "import numpy as np\n",
    "import matplotlib.pyplot as plt\n",
    "import sqlalchemy as sa\n",
    "import psycopg2\n",
    "import json\n",
    "import time\n",
    "import datetime\n",
    "import os\n",
    "import sys\n",
    "import csv\n",
    "import uuid\n",
    "import sqlite3\n",
    "\n",
    "from tqdm import tqdm\n",
    "\n",
    "import spotipy\n",
    "from spotipy.oauth2 import SpotifyClientCredentials\n",
    "\n",
    "from difflib import get_close_matches, SequenceMatcher\n",
    "from dotenv import dotenv_values"
   ]
  },
  {
   "cell_type": "code",
   "execution_count": 2,
   "metadata": {},
   "outputs": [],
   "source": [
    "cfg = dotenv_values(\"../.env\")\n",
    "\n",
    "PG_user = cfg['PGSQL_USER']\n",
    "PG_pw = cfg['PGSQL_PW']\n",
    "PG_host = cfg['PGSQL_HOST']\n",
    "PG_db = cfg['PGSQL_DB']\n",
    "\n",
    "SPOT_id = cfg['SPOTIPY_CLIENT_ID']\n",
    "SPOT_secret = cfg['SPOTIPY_CLIENT_SECRET']"
   ]
  },
  {
   "cell_type": "code",
   "execution_count": 3,
   "metadata": {},
   "outputs": [],
   "source": [
    "processed_data_path = '../data/processed/'\n",
    "\n",
    "# df_songs = pd.read_csv(processed_data_path + 'df_songs_norm.csv')\n",
    "df_playlists = pd.read_csv(processed_data_path + 'df_playlists.csv', index_col=0)\n",
    "\n",
    "with open(processed_data_path + 'artist-songs-trimmed.json', 'r') as f:\n",
    "    artist_songs = json.load(f)\n",
    "list_artists = list(artist_songs.keys())\n",
    "list_artists.sort()"
   ]
  },
  {
   "cell_type": "code",
   "execution_count": 4,
   "metadata": {},
   "outputs": [
    {
     "data": {
      "text/html": [
       "<div>\n",
       "<style scoped>\n",
       "    .dataframe tbody tr th:only-of-type {\n",
       "        vertical-align: middle;\n",
       "    }\n",
       "\n",
       "    .dataframe tbody tr th {\n",
       "        vertical-align: top;\n",
       "    }\n",
       "\n",
       "    .dataframe thead th {\n",
       "        text-align: right;\n",
       "    }\n",
       "</style>\n",
       "<table border=\"1\" class=\"dataframe\">\n",
       "  <thead>\n",
       "    <tr style=\"text-align: right;\">\n",
       "      <th></th>\n",
       "      <th>artist_name</th>\n",
       "      <th>track_name</th>\n",
       "      <th>playlist_uuid</th>\n",
       "      <th>user_id</th>\n",
       "    </tr>\n",
       "  </thead>\n",
       "  <tbody>\n",
       "    <tr>\n",
       "      <th>0</th>\n",
       "      <td>Elvis Costello</td>\n",
       "      <td>(the Angels Wanna Wear My) Red Shoes</td>\n",
       "      <td>58048995723</td>\n",
       "      <td>9cc0cfd4d7d7885102480dd99e7a90d6</td>\n",
       "    </tr>\n",
       "    <tr>\n",
       "      <th>1</th>\n",
       "      <td>Elvis Costello &amp; The Attractions</td>\n",
       "      <td>(What's So Funny 'Bout) Peace, Love And Unders...</td>\n",
       "      <td>58048995723</td>\n",
       "      <td>9cc0cfd4d7d7885102480dd99e7a90d6</td>\n",
       "    </tr>\n",
       "    <tr>\n",
       "      <th>2</th>\n",
       "      <td>Elvis Costello &amp; The Attractions</td>\n",
       "      <td>Accidents Will Happen</td>\n",
       "      <td>58048995723</td>\n",
       "      <td>9cc0cfd4d7d7885102480dd99e7a90d6</td>\n",
       "    </tr>\n",
       "    <tr>\n",
       "      <th>3</th>\n",
       "      <td>Elvis Costello</td>\n",
       "      <td>Alison</td>\n",
       "      <td>58048995723</td>\n",
       "      <td>9cc0cfd4d7d7885102480dd99e7a90d6</td>\n",
       "    </tr>\n",
       "    <tr>\n",
       "      <th>4</th>\n",
       "      <td>Lissie</td>\n",
       "      <td>All Be Okay</td>\n",
       "      <td>58048995723</td>\n",
       "      <td>9cc0cfd4d7d7885102480dd99e7a90d6</td>\n",
       "    </tr>\n",
       "  </tbody>\n",
       "</table>\n",
       "</div>"
      ],
      "text/plain": [
       "                        artist_name  \\\n",
       "0                    Elvis Costello   \n",
       "1  Elvis Costello & The Attractions   \n",
       "2  Elvis Costello & The Attractions   \n",
       "3                    Elvis Costello   \n",
       "4                            Lissie   \n",
       "\n",
       "                                          track_name  playlist_uuid  \\\n",
       "0               (the Angels Wanna Wear My) Red Shoes    58048995723   \n",
       "1  (What's So Funny 'Bout) Peace, Love And Unders...    58048995723   \n",
       "2                              Accidents Will Happen    58048995723   \n",
       "3                                             Alison    58048995723   \n",
       "4                                        All Be Okay    58048995723   \n",
       "\n",
       "                            user_id  \n",
       "0  9cc0cfd4d7d7885102480dd99e7a90d6  \n",
       "1  9cc0cfd4d7d7885102480dd99e7a90d6  \n",
       "2  9cc0cfd4d7d7885102480dd99e7a90d6  \n",
       "3  9cc0cfd4d7d7885102480dd99e7a90d6  \n",
       "4  9cc0cfd4d7d7885102480dd99e7a90d6  "
      ]
     },
     "execution_count": 4,
     "metadata": {},
     "output_type": "execute_result"
    }
   ],
   "source": [
    "df_playlists.head()"
   ]
  },
  {
   "cell_type": "code",
   "execution_count": 5,
   "metadata": {},
   "outputs": [],
   "source": [
    "sp = spotipy.Spotify(auth_manager=SpotifyClientCredentials(\n",
    "                                        client_id=SPOT_id,\n",
    "                                        client_secret=SPOT_secret)\n",
    ")"
   ]
  },
  {
   "cell_type": "markdown",
   "metadata": {},
   "source": [
    "starting with a single pull to review the return -"
   ]
  },
  {
   "cell_type": "code",
   "execution_count": 7,
   "metadata": {},
   "outputs": [],
   "source": [
    "# starting with one\n",
    "q_artist = 'Amon Amarth'\n",
    "# print(len(artist_songs[q_artist]))\n",
    "results = sp.search(q=f'artist:{q_artist}', offset=0, limit=50)\n",
    "results = results['tracks']\n",
    "\n",
    "with open('result_view.json', 'w') as f:\n",
    "    json.dump(results, f, indent=4)"
   ]
  },
  {
   "cell_type": "markdown",
   "metadata": {},
   "source": [
    "After a bit of poking around this data and how the api response is structured, the following function will create a dictionary containing artists, their ids, and a list of songs with the song ids."
   ]
  },
  {
   "cell_type": "code",
   "execution_count": 6,
   "metadata": {},
   "outputs": [],
   "source": [
    "def scrape_artist(query_name, call_count=0, offset=0):\n",
    "    '''\n",
    "    Description:\n",
    "        query the spotify API for up to 1k song returns \n",
    "    Arguments:\n",
    "        query_name: str, artist's name being queried\n",
    "        call_count: int, count of how many times api has been called this session\n",
    "        offset: int, used to declare starting point for subsequent calls\n",
    "    Returns:\n",
    "        compiled_return, call_count: dict, int\n",
    "    '''\n",
    "\n",
    "    compiled_return = {}\n",
    "\n",
    "    while True:\n",
    "        call_count += 1\n",
    "        results = sp.search(q=f'artist:{query_name}', offset=offset, limit=50)\n",
    "        results = results['tracks']\n",
    "\n",
    "        for track in results['items']:\n",
    "            artist_id = track['artists'][0]['id']\n",
    "            artist_name = track['artists'][0]['name']\n",
    "            track_id = track['id']\n",
    "            track_name = track['name']\n",
    "\n",
    "            if artist_id in compiled_return:\n",
    "                compiled_return[artist_id]['tracks'][track_id] = track_name\n",
    "            else:\n",
    "                compiled_return[artist_id] = {'artist_name': artist_name,\n",
    "                                              'tracks': {track_id:track_name}}\n",
    "\n",
    "        if not results['next'] or offset == 950:\n",
    "            break\n",
    "\n",
    "        else:\n",
    "            offset += 50\n",
    "            time.sleep(.1)\n",
    "    \n",
    "    return compiled_return, call_count"
   ]
  },
  {
   "cell_type": "markdown",
   "metadata": {},
   "source": [
    "Test a scrape with artists starting with the letter 'B'"
   ]
  },
  {
   "cell_type": "code",
   "execution_count": 9,
   "metadata": {},
   "outputs": [],
   "source": [
    "# test_artists = [i for i in list_artists if i[0].lower() == 'b']\n",
    "# print(len(test_artists))\n",
    "# print(test_artists[:10])\n",
    "# test_scrape = {}\n",
    "# missed_artists = []\n",
    "# for artist in tqdm(test_artists):\n",
    "#     try:\n",
    "#         test_scrape[artist] = scrape_artist(artist)\n",
    "#     except:\n",
    "#         missed_artists.append(artist)\n",
    "# with open(processed_data_path + 'scrapped-b.json', 'w') as f:\n",
    "#     json.dump(test_scrape, f)"
   ]
  },
  {
   "cell_type": "code",
   "execution_count": 7,
   "metadata": {},
   "outputs": [
    {
     "name": "stderr",
     "output_type": "stream",
     "text": [
      "100%|██████████| 26/26 [01:03<00:00,  2.44s/it]\n"
     ]
    }
   ],
   "source": [
    "temp_artists_list = list(list_artists)\n",
    "scrape_keys = [chr(i) for i in range(ord('a'), ord('z') + 1)]\n",
    "scrape_dict = {}\n",
    "for k in tqdm(scrape_keys):\n",
    "    curr_list = [i for i in list_artists if i[0].lower() == k]\n",
    "    scrape_dict[k] = curr_list\n",
    "    temp_artists_list = [i for i in temp_artists_list if i not in curr_list]\n",
    "scrape_dict['_'] = temp_artists_list"
   ]
  },
  {
   "cell_type": "code",
   "execution_count": 8,
   "metadata": {},
   "outputs": [
    {
     "name": "stdout",
     "output_type": "stream",
     "text": [
      "\n",
      "total number of artists: 61078\n",
      "\n",
      "still to capture: 31818\n",
      "\n",
      "percent complete: 47.91%\n"
     ]
    }
   ],
   "source": [
    "completed_keys = [chr(i) for i in range(ord('a'), ord('k') + 1)]\n",
    "for i in completed_keys:\n",
    "    try:\n",
    "        del scrape_dict[i]\n",
    "    except:\n",
    "        pass\n",
    "check_count = 0\n",
    "for k, v in scrape_dict.items():\n",
    "    check_count += len(v)\n",
    "print(f'\\ntotal number of artists: {len(list_artists)}')\n",
    "print(f'\\nstill to capture: {check_count}')\n",
    "print(f'\\npercent complete: {1 -(check_count / len(list_artists)):.2%}')"
   ]
  },
  {
   "cell_type": "code",
   "execution_count": 160,
   "metadata": {},
   "outputs": [],
   "source": [
    "# del scrape_dict['j']\n",
    "# last_idx = list(scrape_dict['k']).index('Klaus Schulze')\n",
    "# drop_list = list(scrape_dict['k'])[:last_idx + 1]\n",
    "# scrape_dict['k'] = [i for i in scrape_dict['k'] if i not in drop_list]"
   ]
  },
  {
   "cell_type": "code",
   "execution_count": 9,
   "metadata": {},
   "outputs": [
    {
     "name": "stdout",
     "output_type": "stream",
     "text": [
      "\n",
      "starting - l\n"
     ]
    },
    {
     "name": "stderr",
     "output_type": "stream",
     "text": [
      "100%|██████████| 3241/3241 [1:45:57<00:00,  1.96s/it]  \n"
     ]
    },
    {
     "name": "stdout",
     "output_type": "stream",
     "text": [
      "\n",
      "finished - l\n",
      "\n",
      "starting - m\n"
     ]
    },
    {
     "name": "stderr",
     "output_type": "stream",
     "text": [
      "  1%|          | 52/4595 [02:37<3:49:48,  3.04s/it]"
     ]
    },
    {
     "name": "stdout",
     "output_type": "stream",
     "text": [
      "ending early with call_count: 21958\n",
      "last artist captured: MAM\n"
     ]
    },
    {
     "name": "stderr",
     "output_type": "stream",
     "text": [
      "\n"
     ]
    }
   ],
   "source": [
    "missed_artists = []\n",
    "call_count = 0\n",
    "\n",
    "for curr_key in scrape_dict.keys():\n",
    "\n",
    "    print(f'\\nstarting - {curr_key}')\n",
    "\n",
    "    curr_list = scrape_dict[curr_key]\n",
    "    curr_scrape = {}\n",
    "\n",
    "    for artist in tqdm(curr_list):\n",
    "        try:\n",
    "            scrape_return, call_count = scrape_artist(artist, call_count)\n",
    "            curr_scrape[artist] = scrape_return\n",
    "        except:\n",
    "            missed_artists.append(artist)\n",
    "        if call_count >= 21950:\n",
    "            print(f'ending early with call_count: {call_count}')\n",
    "            print(f'last artist captured: {artist}')\n",
    "            break\n",
    "    \n",
    "    # check to see if we've captured any of this letter before, if so merge the data\n",
    "    f_path = processed_data_path + f'scraped/{curr_key}.json'\n",
    "    if os.path.exists(f_path):\n",
    "        with open(f_path, 'r') as f:\n",
    "            temp = json.load(f)\n",
    "            merge_dict = {**temp, **curr_scrape}\n",
    "        with open(f_path, 'w') as f:\n",
    "            json.dump(merge_dict, f)\n",
    "    else:\n",
    "        with open(f_path, 'w') as f:\n",
    "            json.dump(curr_scrape, f)\n",
    "    \n",
    "    if call_count >= 21950:\n",
    "        break\n",
    "    print(f'\\nfinished - {curr_key}')"
   ]
  },
  {
   "cell_type": "markdown",
   "metadata": {},
   "source": [
    "-----\n",
    "-----\n",
    "-----"
   ]
  },
  {
   "cell_type": "markdown",
   "metadata": {},
   "source": [
    "to query the spotify api -\n",
    "\n",
    "`query = f'artist:{q_artist} + track:{q_track}', offset=0, limit=50'`\n",
    "\n",
    "`results = sp.search(q=query)`"
   ]
  },
  {
   "cell_type": "markdown",
   "metadata": {},
   "source": [
    "-----\n",
    "\n",
    "#### postgres tables\n",
    "\n",
    "__artists__\n",
    "| **artist_id** | artist_name   |\n",
    "| :----:        |    :----:     |\n",
    "| `artist_id`   | `name_string` |\n",
    "| `artist_id`   | `name_string` |\n",
    "| etc...        | ...           |\n",
    "\n",
    "__tracks__\n",
    "| **track_id**          | track_name    | *`artist_id`*   | song_feature1 | song_feature2 | etc. |\n",
    "| :----:       |    :----:     |    :----:   |    :----:     |    :----:     |:----:|\n",
    "| `track_id`   | `name_string` | `artist_id` | `feature1val` | `feature2val` | ...  |\n",
    "| `track_id`   | `name_string` | `artist_id` | `feature1val` | `feature2val` | ...  |\n",
    "| etc...       | ...           | ...         |    ...        |     ...       | ...  | \n",
    "\n",
    "<br><br>\n",
    "Our playlist's only relationship is the many to many with `track_id`, so we will\n",
    "just use this as the junction table!\n",
    "\n",
    "__playlists__\n",
    "| **playlist_id**         | playlist_id   | *`track_id`*    |\n",
    "| :----:                  |    :----:     |   :----:        |\n",
    "| `concat playlist&track` | `playlist_id` | `track_id`      |\n",
    "| `concat playlist&track` | `playlist_id` | `track_id`      |\n",
    "| etc...                  | ...           |                 |"
   ]
  },
  {
   "cell_type": "code",
   "execution_count": 120,
   "metadata": {},
   "outputs": [],
   "source": [
    "# # reset\n",
    "\n",
    "# conn = psycopg2.connect(\n",
    "#     host=PG_host,\n",
    "#     database=PG_db,\n",
    "#     user=PG_user,\n",
    "#     password=PG_pw\n",
    "# )\n",
    "\n",
    "# queries = (\n",
    "#     '''\n",
    "#     DROP TABLE IF EXISTS playlists\n",
    "#     ''',\n",
    "#     '''\n",
    "#     DROP TABLE IF EXISTS tracks\n",
    "#     ''',\n",
    "#     '''\n",
    "#     DROP TABLE IF EXISTS artists\n",
    "#     '''\n",
    "# )\n",
    "\n",
    "# try:\n",
    "#     crsr = conn.cursor()\n",
    "#     for query in queries:\n",
    "#         crsr.execute(query)\n",
    "#     crsr.close()\n",
    "#     conn.commit()\n",
    "# except(Exception, psycopg2.DatabaseError) as error:\n",
    "#     print(error)\n"
   ]
  },
  {
   "cell_type": "code",
   "execution_count": 121,
   "metadata": {},
   "outputs": [],
   "source": [
    "queries = (\n",
    "    '''\n",
    "    CREATE TABLE IF NOT EXISTS artists (\n",
    "        artist_id VARCHAR(255) PRIMARY KEY,\n",
    "        artist_name VARCHAR(255)\n",
    "    )\n",
    "    ''',\n",
    "    '''\n",
    "    CREATE TABLE IF NOT EXISTS tracks (\n",
    "        track_id VARCHAR(255) PRIMARY KEY,\n",
    "        track_name VARCHAR(255),\n",
    "        artist_id VARCHAR(255),\n",
    "        FOREIGN KEY (artist_id) REFERENCES artists (artist_id)\n",
    "    )\n",
    "    ''',\n",
    "    '''\n",
    "    CREATE TABLE IF NOT EXISTS playlists (\n",
    "        uid VARCHAR(255) PRIMARY KEY,\n",
    "        playlist_id VARCHAR(255),\n",
    "        track_id VARCHAR(255),\n",
    "        FOREIGN KEY (track_id) REFERENCES tracks (track_id)\n",
    "    )\n",
    "    '''\n",
    ")\n",
    "\n",
    "try:\n",
    "    crsr = conn.cursor()\n",
    "    for query in queries:\n",
    "        crsr.execute(query)\n",
    "    crsr.close()\n",
    "    conn.commit()\n",
    "except(Exception, psycopg2.DatabaseError) as error:\n",
    "    print(error)"
   ]
  },
  {
   "cell_type": "code",
   "execution_count": 37,
   "metadata": {},
   "outputs": [],
   "source": [
    "with open(processed_data_path + 'scraped/a.json', 'r') as f:\n",
    "    test_letter = json.load(f)"
   ]
  },
  {
   "cell_type": "code",
   "execution_count": 77,
   "metadata": {},
   "outputs": [],
   "source": [
    "conn = psycopg2.connect(\n",
    "    host=PG_host,\n",
    "    database=PG_db,\n",
    "    user=PG_user,\n",
    "    password=PG_pw\n",
    ")\n",
    "\n",
    "curr_artist_list = list(test_letter.keys())"
   ]
  },
  {
   "cell_type": "code",
   "execution_count": 129,
   "metadata": {},
   "outputs": [
    {
     "name": "stderr",
     "output_type": "stream",
     "text": [
      "100%|██████████| 3912/3912 [12:20<00:00,  5.28it/s]\n"
     ]
    }
   ],
   "source": [
    "for i in tqdm(curr_artist_list):\n",
    "    current = test_letter[i]\n",
    "    queries = []\n",
    "    for artist_id, name_tracks in current.items():\n",
    "        artist_string = name_tracks['artist_name']\n",
    "        tracks = name_tracks['tracks']\n",
    "\n",
    "        queries.append(crsr.mogrify('''\n",
    "        INSERT INTO artists(artist_id, artist_name)\n",
    "            VALUES (%s, %s)\n",
    "        ''', (artist_id, artist_string)))\n",
    "\n",
    "        for track_id, track_name in tracks.items():\n",
    "            queries.append(crsr.mogrify('''\n",
    "            INSERT INTO tracks(track_id, track_name, artist_id)\n",
    "                VALUES (%s, %s, %s)\n",
    "            ''', (track_id, track_name, artist_id)))\n",
    "        \n",
    "    \n",
    "    for query in queries:\n",
    "        try:\n",
    "            crsr = conn.cursor()\n",
    "            crsr.execute(query)\n",
    "            crsr.close()\n",
    "            conn.commit()\n",
    "        except(Exception, psycopg2.DatabaseError) as error:\n",
    "            # print(error)\n",
    "            conn.rollback()\n",
    "        # finally:\n",
    "        #     if conn is not None:\n",
    "        #         conn.close()\n"
   ]
  }
 ],
 "metadata": {
  "interpreter": {
   "hash": "8601e0c59fdd84b5196da23eacd8a01712d8fce1a4734de58b65c3106d03cb38"
  },
  "kernelspec": {
   "display_name": "Python 3.8.13 ('spotify')",
   "language": "python",
   "name": "python3"
  },
  "language_info": {
   "codemirror_mode": {
    "name": "ipython",
    "version": 3
   },
   "file_extension": ".py",
   "mimetype": "text/x-python",
   "name": "python",
   "nbconvert_exporter": "python",
   "pygments_lexer": "ipython3",
   "version": "3.8.13"
  },
  "orig_nbformat": 4
 },
 "nbformat": 4,
 "nbformat_minor": 2
}
