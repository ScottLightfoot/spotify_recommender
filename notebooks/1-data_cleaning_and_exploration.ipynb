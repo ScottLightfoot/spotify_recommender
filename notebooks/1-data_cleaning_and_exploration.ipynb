{
 "cells": [
  {
   "cell_type": "code",
   "execution_count": 1,
   "metadata": {},
   "outputs": [],
   "source": [
    "import pandas as pd\n",
    "import numpy as np\n",
    "import matplotlib.pyplot as plt\n",
    "import sqlalchemy as sa\n",
    "import psycopg2\n",
    "import json\n",
    "import time\n",
    "import sys\n",
    "import csv\n",
    "import uuid\n",
    "import sqlite3\n",
    "\n",
    "from tqdm import tqdm\n",
    "\n",
    "import spotipy\n",
    "from spotipy.oauth2 import SpotifyClientCredentials\n",
    "\n",
    "from difflib import get_close_matches\n",
    "from dotenv import dotenv_values"
   ]
  },
  {
   "cell_type": "code",
   "execution_count": 2,
   "metadata": {},
   "outputs": [],
   "source": [
    "cfg = dotenv_values(\"../.env\")\n",
    "\n",
    "PG_user = cfg['PGSQL_USER']\n",
    "PG_pw = cfg['PGSQL_PW']\n",
    "PG_host = cfg['PGSQL_HOST']\n",
    "PG_db = cfg['PGSQL_DB']\n",
    "\n",
    "SPOT_id = cfg['SPOTIPY_CLIENT_ID']\n",
    "SPOT_secret = cfg['SPOTIPY_CLIENT_SECRET']"
   ]
  },
  {
   "cell_type": "code",
   "execution_count": 3,
   "metadata": {},
   "outputs": [
    {
     "name": "stdout",
     "output_type": "stream",
     "text": [
      "(130663, 17)\n"
     ]
    }
   ],
   "source": [
    "raw_data_path = '../data/_raw/'\n",
    "processed_data_path = '../data/processed/'\n",
    "df_songs = pd.read_csv(raw_data_path + 'SpotifyAudioFeaturesApril2019.csv')\n",
    "print(df_songs.shape)"
   ]
  },
  {
   "cell_type": "markdown",
   "metadata": {},
   "source": [
    "Trying to read the playlist csv was throwing errors due to the use of **\"** in some song titles.  As we're only dealing with 8 problematic lines, we'll just drop them."
   ]
  },
  {
   "cell_type": "code",
   "execution_count": 4,
   "metadata": {},
   "outputs": [
    {
     "name": "stdout",
     "output_type": "stream",
     "text": [
      "dropped entries:  8\n",
      "(12791369, 4)\n"
     ]
    }
   ],
   "source": [
    "# df_playlists turns out to be problematic due to use of double quotes in the csv file!\n",
    "\n",
    "err_lines = []\n",
    "def capture_err_lines(err_line):\n",
    "    err_lines.append(err_line)\n",
    "    return None\n",
    "\n",
    "df_playlists = pd.read_csv(raw_data_path + 'Playlist_dataset.csv',\n",
    "                           engine=\"python\",\n",
    "                           on_bad_lines=capture_err_lines)\n",
    "\n",
    "print('dropped entries: ', len(err_lines))\n",
    "\n",
    "print(df_playlists.shape)"
   ]
  },
  {
   "cell_type": "markdown",
   "metadata": {},
   "source": [
    "-----\n",
    "### starting with the songs dataset -"
   ]
  },
  {
   "cell_type": "code",
   "execution_count": 5,
   "metadata": {},
   "outputs": [
    {
     "name": "stdout",
     "output_type": "stream",
     "text": [
      "df length:  130663 unique id count:  130326\n",
      "dropped dupes, new df length:  130326\n"
     ]
    }
   ],
   "source": [
    "# dropping the few duplicated track_id entries\n",
    "df_len = len(df_songs)\n",
    "uid_count = df_songs['track_id'].nunique()\n",
    "print(\"df length: \", df_len, \"unique id count: \", uid_count)\n",
    "\n",
    "df_songs.drop_duplicates(subset=['track_id'], inplace=True)\n",
    "df_songs.reset_index(drop=True)\n",
    "print(\"dropped dupes, new df length: \", len(df_songs))"
   ]
  },
  {
   "cell_type": "code",
   "execution_count": 6,
   "metadata": {},
   "outputs": [
    {
     "data": {
      "text/html": [
       "<div>\n",
       "<style scoped>\n",
       "    .dataframe tbody tr th:only-of-type {\n",
       "        vertical-align: middle;\n",
       "    }\n",
       "\n",
       "    .dataframe tbody tr th {\n",
       "        vertical-align: top;\n",
       "    }\n",
       "\n",
       "    .dataframe thead th {\n",
       "        text-align: right;\n",
       "    }\n",
       "</style>\n",
       "<table border=\"1\" class=\"dataframe\">\n",
       "  <thead>\n",
       "    <tr style=\"text-align: right;\">\n",
       "      <th></th>\n",
       "      <th>acousticness</th>\n",
       "      <th>danceability</th>\n",
       "      <th>duration_ms</th>\n",
       "      <th>energy</th>\n",
       "      <th>instrumentalness</th>\n",
       "      <th>key</th>\n",
       "      <th>liveness</th>\n",
       "      <th>loudness</th>\n",
       "      <th>mode</th>\n",
       "      <th>speechiness</th>\n",
       "      <th>tempo</th>\n",
       "      <th>time_signature</th>\n",
       "      <th>valence</th>\n",
       "      <th>popularity</th>\n",
       "    </tr>\n",
       "  </thead>\n",
       "  <tbody>\n",
       "    <tr>\n",
       "      <th>count</th>\n",
       "      <td>130326.000000</td>\n",
       "      <td>130326.000000</td>\n",
       "      <td>1.303260e+05</td>\n",
       "      <td>130326.000000</td>\n",
       "      <td>130326.000000</td>\n",
       "      <td>130326.000000</td>\n",
       "      <td>130326.000000</td>\n",
       "      <td>130326.000000</td>\n",
       "      <td>130326.000000</td>\n",
       "      <td>130326.000000</td>\n",
       "      <td>130326.000000</td>\n",
       "      <td>130326.000000</td>\n",
       "      <td>130326.000000</td>\n",
       "      <td>130326.000000</td>\n",
       "    </tr>\n",
       "    <tr>\n",
       "      <th>mean</th>\n",
       "      <td>0.342617</td>\n",
       "      <td>0.581332</td>\n",
       "      <td>2.126320e+05</td>\n",
       "      <td>0.569137</td>\n",
       "      <td>0.224383</td>\n",
       "      <td>5.232409</td>\n",
       "      <td>0.194913</td>\n",
       "      <td>-9.979523</td>\n",
       "      <td>0.607906</td>\n",
       "      <td>0.111966</td>\n",
       "      <td>119.468106</td>\n",
       "      <td>3.878766</td>\n",
       "      <td>0.439659</td>\n",
       "      <td>24.130573</td>\n",
       "    </tr>\n",
       "    <tr>\n",
       "      <th>std</th>\n",
       "      <td>0.345706</td>\n",
       "      <td>0.190084</td>\n",
       "      <td>1.232706e+05</td>\n",
       "      <td>0.260397</td>\n",
       "      <td>0.360517</td>\n",
       "      <td>3.602850</td>\n",
       "      <td>0.167782</td>\n",
       "      <td>6.547386</td>\n",
       "      <td>0.488219</td>\n",
       "      <td>0.124341</td>\n",
       "      <td>30.162445</td>\n",
       "      <td>0.514784</td>\n",
       "      <td>0.259157</td>\n",
       "      <td>19.662458</td>\n",
       "    </tr>\n",
       "    <tr>\n",
       "      <th>min</th>\n",
       "      <td>0.000000</td>\n",
       "      <td>0.000000</td>\n",
       "      <td>3.203000e+03</td>\n",
       "      <td>0.000000</td>\n",
       "      <td>0.000000</td>\n",
       "      <td>0.000000</td>\n",
       "      <td>0.000000</td>\n",
       "      <td>-60.000000</td>\n",
       "      <td>0.000000</td>\n",
       "      <td>0.000000</td>\n",
       "      <td>0.000000</td>\n",
       "      <td>0.000000</td>\n",
       "      <td>0.000000</td>\n",
       "      <td>0.000000</td>\n",
       "    </tr>\n",
       "    <tr>\n",
       "      <th>25%</th>\n",
       "      <td>0.031500</td>\n",
       "      <td>0.459000</td>\n",
       "      <td>1.638800e+05</td>\n",
       "      <td>0.396000</td>\n",
       "      <td>0.000000</td>\n",
       "      <td>2.000000</td>\n",
       "      <td>0.097500</td>\n",
       "      <td>-11.905750</td>\n",
       "      <td>0.000000</td>\n",
       "      <td>0.038900</td>\n",
       "      <td>96.013250</td>\n",
       "      <td>4.000000</td>\n",
       "      <td>0.224000</td>\n",
       "      <td>7.000000</td>\n",
       "    </tr>\n",
       "    <tr>\n",
       "      <th>50%</th>\n",
       "      <td>0.203000</td>\n",
       "      <td>0.605000</td>\n",
       "      <td>2.019050e+05</td>\n",
       "      <td>0.603000</td>\n",
       "      <td>0.000151</td>\n",
       "      <td>5.000000</td>\n",
       "      <td>0.124000</td>\n",
       "      <td>-7.983000</td>\n",
       "      <td>1.000000</td>\n",
       "      <td>0.055800</td>\n",
       "      <td>120.026000</td>\n",
       "      <td>4.000000</td>\n",
       "      <td>0.420000</td>\n",
       "      <td>21.000000</td>\n",
       "    </tr>\n",
       "    <tr>\n",
       "      <th>75%</th>\n",
       "      <td>0.637000</td>\n",
       "      <td>0.727000</td>\n",
       "      <td>2.410588e+05</td>\n",
       "      <td>0.775000</td>\n",
       "      <td>0.444000</td>\n",
       "      <td>8.000000</td>\n",
       "      <td>0.236000</td>\n",
       "      <td>-5.686000</td>\n",
       "      <td>1.000000</td>\n",
       "      <td>0.129000</td>\n",
       "      <td>139.613000</td>\n",
       "      <td>4.000000</td>\n",
       "      <td>0.638000</td>\n",
       "      <td>38.000000</td>\n",
       "    </tr>\n",
       "    <tr>\n",
       "      <th>max</th>\n",
       "      <td>0.996000</td>\n",
       "      <td>0.996000</td>\n",
       "      <td>5.610020e+06</td>\n",
       "      <td>1.000000</td>\n",
       "      <td>1.000000</td>\n",
       "      <td>11.000000</td>\n",
       "      <td>0.999000</td>\n",
       "      <td>1.806000</td>\n",
       "      <td>1.000000</td>\n",
       "      <td>0.966000</td>\n",
       "      <td>249.983000</td>\n",
       "      <td>5.000000</td>\n",
       "      <td>1.000000</td>\n",
       "      <td>100.000000</td>\n",
       "    </tr>\n",
       "  </tbody>\n",
       "</table>\n",
       "</div>"
      ],
      "text/plain": [
       "        acousticness   danceability   duration_ms         energy  \\\n",
       "count  130326.000000  130326.000000  1.303260e+05  130326.000000   \n",
       "mean        0.342617       0.581332  2.126320e+05       0.569137   \n",
       "std         0.345706       0.190084  1.232706e+05       0.260397   \n",
       "min         0.000000       0.000000  3.203000e+03       0.000000   \n",
       "25%         0.031500       0.459000  1.638800e+05       0.396000   \n",
       "50%         0.203000       0.605000  2.019050e+05       0.603000   \n",
       "75%         0.637000       0.727000  2.410588e+05       0.775000   \n",
       "max         0.996000       0.996000  5.610020e+06       1.000000   \n",
       "\n",
       "       instrumentalness            key       liveness       loudness  \\\n",
       "count     130326.000000  130326.000000  130326.000000  130326.000000   \n",
       "mean           0.224383       5.232409       0.194913      -9.979523   \n",
       "std            0.360517       3.602850       0.167782       6.547386   \n",
       "min            0.000000       0.000000       0.000000     -60.000000   \n",
       "25%            0.000000       2.000000       0.097500     -11.905750   \n",
       "50%            0.000151       5.000000       0.124000      -7.983000   \n",
       "75%            0.444000       8.000000       0.236000      -5.686000   \n",
       "max            1.000000      11.000000       0.999000       1.806000   \n",
       "\n",
       "                mode    speechiness          tempo  time_signature  \\\n",
       "count  130326.000000  130326.000000  130326.000000   130326.000000   \n",
       "mean        0.607906       0.111966     119.468106        3.878766   \n",
       "std         0.488219       0.124341      30.162445        0.514784   \n",
       "min         0.000000       0.000000       0.000000        0.000000   \n",
       "25%         0.000000       0.038900      96.013250        4.000000   \n",
       "50%         1.000000       0.055800     120.026000        4.000000   \n",
       "75%         1.000000       0.129000     139.613000        4.000000   \n",
       "max         1.000000       0.966000     249.983000        5.000000   \n",
       "\n",
       "             valence     popularity  \n",
       "count  130326.000000  130326.000000  \n",
       "mean        0.439659      24.130573  \n",
       "std         0.259157      19.662458  \n",
       "min         0.000000       0.000000  \n",
       "25%         0.224000       7.000000  \n",
       "50%         0.420000      21.000000  \n",
       "75%         0.638000      38.000000  \n",
       "max         1.000000     100.000000  "
      ]
     },
     "execution_count": 6,
     "metadata": {},
     "output_type": "execute_result"
    }
   ],
   "source": [
    "df_songs.describe()"
   ]
  },
  {
   "cell_type": "code",
   "execution_count": 7,
   "metadata": {},
   "outputs": [
    {
     "data": {
      "text/html": [
       "<div>\n",
       "<style scoped>\n",
       "    .dataframe tbody tr th:only-of-type {\n",
       "        vertical-align: middle;\n",
       "    }\n",
       "\n",
       "    .dataframe tbody tr th {\n",
       "        vertical-align: top;\n",
       "    }\n",
       "\n",
       "    .dataframe thead th {\n",
       "        text-align: right;\n",
       "    }\n",
       "</style>\n",
       "<table border=\"1\" class=\"dataframe\">\n",
       "  <thead>\n",
       "    <tr style=\"text-align: right;\">\n",
       "      <th></th>\n",
       "      <th>artist_name</th>\n",
       "      <th>track_id</th>\n",
       "      <th>track_name</th>\n",
       "      <th>acousticness</th>\n",
       "      <th>danceability</th>\n",
       "      <th>duration_ms</th>\n",
       "      <th>energy</th>\n",
       "      <th>instrumentalness</th>\n",
       "      <th>key</th>\n",
       "      <th>liveness</th>\n",
       "      <th>loudness</th>\n",
       "      <th>mode</th>\n",
       "      <th>speechiness</th>\n",
       "      <th>tempo</th>\n",
       "      <th>time_signature</th>\n",
       "      <th>valence</th>\n",
       "      <th>popularity</th>\n",
       "    </tr>\n",
       "  </thead>\n",
       "  <tbody>\n",
       "    <tr>\n",
       "      <th>23284</th>\n",
       "      <td>Gunplay</td>\n",
       "      <td>26TywDaMqkUssNYSlqQmUm</td>\n",
       "      <td>My Phone</td>\n",
       "      <td>0.01830</td>\n",
       "      <td>0.938</td>\n",
       "      <td>256788</td>\n",
       "      <td>0.2600</td>\n",
       "      <td>0.000088</td>\n",
       "      <td>0</td>\n",
       "      <td>0.0689</td>\n",
       "      <td>-17.122</td>\n",
       "      <td>0</td>\n",
       "      <td>0.1210</td>\n",
       "      <td>100.017</td>\n",
       "      <td>4</td>\n",
       "      <td>0.56000</td>\n",
       "      <td>14</td>\n",
       "    </tr>\n",
       "    <tr>\n",
       "      <th>46429</th>\n",
       "      <td>Mourn</td>\n",
       "      <td>1wvcDS3v4VD66u81Wgwq6d</td>\n",
       "      <td>Barcelona City Tour</td>\n",
       "      <td>0.00464</td>\n",
       "      <td>0.642</td>\n",
       "      <td>152185</td>\n",
       "      <td>0.9300</td>\n",
       "      <td>0.080900</td>\n",
       "      <td>9</td>\n",
       "      <td>0.3270</td>\n",
       "      <td>-5.052</td>\n",
       "      <td>1</td>\n",
       "      <td>0.0670</td>\n",
       "      <td>166.966</td>\n",
       "      <td>4</td>\n",
       "      <td>0.74200</td>\n",
       "      <td>10</td>\n",
       "    </tr>\n",
       "    <tr>\n",
       "      <th>5205</th>\n",
       "      <td>YG Hypnos</td>\n",
       "      <td>1s7qtaTu6fRBlvr985F2nr</td>\n",
       "      <td>Backtothebasics</td>\n",
       "      <td>0.84500</td>\n",
       "      <td>0.845</td>\n",
       "      <td>81139</td>\n",
       "      <td>0.3330</td>\n",
       "      <td>0.864000</td>\n",
       "      <td>6</td>\n",
       "      <td>0.1130</td>\n",
       "      <td>-9.265</td>\n",
       "      <td>0</td>\n",
       "      <td>0.5190</td>\n",
       "      <td>142.146</td>\n",
       "      <td>4</td>\n",
       "      <td>0.55500</td>\n",
       "      <td>18</td>\n",
       "    </tr>\n",
       "    <tr>\n",
       "      <th>106637</th>\n",
       "      <td>Johann Sebastian Bach</td>\n",
       "      <td>5qD3hP0aIM2SfbkENvyo3v</td>\n",
       "      <td>Ich bin in mir vergnügt, BWV 204: No. 6, Meine...</td>\n",
       "      <td>0.92400</td>\n",
       "      <td>0.269</td>\n",
       "      <td>407867</td>\n",
       "      <td>0.0955</td>\n",
       "      <td>0.000003</td>\n",
       "      <td>1</td>\n",
       "      <td>0.1350</td>\n",
       "      <td>-19.478</td>\n",
       "      <td>0</td>\n",
       "      <td>0.0516</td>\n",
       "      <td>140.704</td>\n",
       "      <td>3</td>\n",
       "      <td>0.19800</td>\n",
       "      <td>6</td>\n",
       "    </tr>\n",
       "    <tr>\n",
       "      <th>74119</th>\n",
       "      <td>Rain Sounds</td>\n",
       "      <td>2GHDyXMIXumoxhkCCYD3fq</td>\n",
       "      <td>Wild Rain</td>\n",
       "      <td>0.92600</td>\n",
       "      <td>0.223</td>\n",
       "      <td>115526</td>\n",
       "      <td>0.9990</td>\n",
       "      <td>0.992000</td>\n",
       "      <td>4</td>\n",
       "      <td>0.9580</td>\n",
       "      <td>-16.551</td>\n",
       "      <td>0</td>\n",
       "      <td>0.0442</td>\n",
       "      <td>71.355</td>\n",
       "      <td>5</td>\n",
       "      <td>0.00001</td>\n",
       "      <td>0</td>\n",
       "    </tr>\n",
       "  </tbody>\n",
       "</table>\n",
       "</div>"
      ],
      "text/plain": [
       "                  artist_name                track_id  \\\n",
       "23284                 Gunplay  26TywDaMqkUssNYSlqQmUm   \n",
       "46429                   Mourn  1wvcDS3v4VD66u81Wgwq6d   \n",
       "5205                YG Hypnos  1s7qtaTu6fRBlvr985F2nr   \n",
       "106637  Johann Sebastian Bach  5qD3hP0aIM2SfbkENvyo3v   \n",
       "74119             Rain Sounds  2GHDyXMIXumoxhkCCYD3fq   \n",
       "\n",
       "                                               track_name  acousticness  \\\n",
       "23284                                            My Phone       0.01830   \n",
       "46429                                 Barcelona City Tour       0.00464   \n",
       "5205                                      Backtothebasics       0.84500   \n",
       "106637  Ich bin in mir vergnügt, BWV 204: No. 6, Meine...       0.92400   \n",
       "74119                                           Wild Rain       0.92600   \n",
       "\n",
       "        danceability  duration_ms  energy  instrumentalness  key  liveness  \\\n",
       "23284          0.938       256788  0.2600          0.000088    0    0.0689   \n",
       "46429          0.642       152185  0.9300          0.080900    9    0.3270   \n",
       "5205           0.845        81139  0.3330          0.864000    6    0.1130   \n",
       "106637         0.269       407867  0.0955          0.000003    1    0.1350   \n",
       "74119          0.223       115526  0.9990          0.992000    4    0.9580   \n",
       "\n",
       "        loudness  mode  speechiness    tempo  time_signature  valence  \\\n",
       "23284    -17.122     0       0.1210  100.017               4  0.56000   \n",
       "46429     -5.052     1       0.0670  166.966               4  0.74200   \n",
       "5205      -9.265     0       0.5190  142.146               4  0.55500   \n",
       "106637   -19.478     0       0.0516  140.704               3  0.19800   \n",
       "74119    -16.551     0       0.0442   71.355               5  0.00001   \n",
       "\n",
       "        popularity  \n",
       "23284           14  \n",
       "46429           10  \n",
       "5205            18  \n",
       "106637           6  \n",
       "74119            0  "
      ]
     },
     "execution_count": 7,
     "metadata": {},
     "output_type": "execute_result"
    }
   ],
   "source": [
    "df_songs.sample(5)"
   ]
  },
  {
   "cell_type": "code",
   "execution_count": 8,
   "metadata": {},
   "outputs": [
    {
     "data": {
      "text/plain": [
       "artist_name       34599\n",
       "key                  12\n",
       "mode                  2\n",
       "time_signature        5\n",
       "dtype: int64"
      ]
     },
     "execution_count": 8,
     "metadata": {},
     "output_type": "execute_result"
    }
   ],
   "source": [
    "df_songs[['artist_name', 'key', 'mode', 'time_signature']].nunique()"
   ]
  },
  {
   "cell_type": "code",
   "execution_count": 9,
   "metadata": {},
   "outputs": [],
   "source": [
    "cat_cols = ['artist_name', 'key', 'mode', 'time_signature']\n",
    "num_cols = ['acousticness', 'danceability', 'energy', 'instrumentalness',\n",
    "            'liveness', 'loudness', 'speechiness', 'valence']"
   ]
  },
  {
   "cell_type": "code",
   "execution_count": 10,
   "metadata": {},
   "outputs": [
    {
     "data": {
      "text/html": [
       "<div>\n",
       "<style scoped>\n",
       "    .dataframe tbody tr th:only-of-type {\n",
       "        vertical-align: middle;\n",
       "    }\n",
       "\n",
       "    .dataframe tbody tr th {\n",
       "        vertical-align: top;\n",
       "    }\n",
       "\n",
       "    .dataframe thead th {\n",
       "        text-align: right;\n",
       "    }\n",
       "</style>\n",
       "<table border=\"1\" class=\"dataframe\">\n",
       "  <thead>\n",
       "    <tr style=\"text-align: right;\">\n",
       "      <th></th>\n",
       "      <th>artist_name</th>\n",
       "      <th>track_id</th>\n",
       "      <th>track_name</th>\n",
       "      <th>acousticness</th>\n",
       "      <th>danceability</th>\n",
       "      <th>duration_ms</th>\n",
       "      <th>energy</th>\n",
       "      <th>instrumentalness</th>\n",
       "      <th>key</th>\n",
       "      <th>liveness</th>\n",
       "      <th>loudness</th>\n",
       "      <th>mode</th>\n",
       "      <th>speechiness</th>\n",
       "      <th>tempo</th>\n",
       "      <th>time_signature</th>\n",
       "      <th>valence</th>\n",
       "      <th>popularity</th>\n",
       "    </tr>\n",
       "  </thead>\n",
       "  <tbody>\n",
       "    <tr>\n",
       "      <th>0</th>\n",
       "      <td>YG</td>\n",
       "      <td>2RM4jf1Xa9zPgMGRDiht8O</td>\n",
       "      <td>Big Bank feat. 2 Chainz, Big Sean, Nicki Minaj</td>\n",
       "      <td>0.005843</td>\n",
       "      <td>0.745984</td>\n",
       "      <td>238373</td>\n",
       "      <td>0.339</td>\n",
       "      <td>0.000</td>\n",
       "      <td>1</td>\n",
       "      <td>0.081281</td>\n",
       "      <td>0.846552</td>\n",
       "      <td>1</td>\n",
       "      <td>0.423395</td>\n",
       "      <td>203.927</td>\n",
       "      <td>4</td>\n",
       "      <td>0.118</td>\n",
       "      <td>15</td>\n",
       "    </tr>\n",
       "    <tr>\n",
       "      <th>1</th>\n",
       "      <td>YG</td>\n",
       "      <td>1tHDG53xJNGsItRA3vfVgs</td>\n",
       "      <td>BAND DRUM (feat. A$AP Rocky)</td>\n",
       "      <td>0.024498</td>\n",
       "      <td>0.849398</td>\n",
       "      <td>214800</td>\n",
       "      <td>0.557</td>\n",
       "      <td>0.000</td>\n",
       "      <td>8</td>\n",
       "      <td>0.286286</td>\n",
       "      <td>0.853331</td>\n",
       "      <td>1</td>\n",
       "      <td>0.473085</td>\n",
       "      <td>159.009</td>\n",
       "      <td>4</td>\n",
       "      <td>0.371</td>\n",
       "      <td>0</td>\n",
       "    </tr>\n",
       "    <tr>\n",
       "      <th>2</th>\n",
       "      <td>R3HAB</td>\n",
       "      <td>6Wosx2euFPMT14UXiWudMy</td>\n",
       "      <td>Radio Silence</td>\n",
       "      <td>0.025100</td>\n",
       "      <td>0.605422</td>\n",
       "      <td>138913</td>\n",
       "      <td>0.723</td>\n",
       "      <td>0.000</td>\n",
       "      <td>9</td>\n",
       "      <td>0.082482</td>\n",
       "      <td>0.875481</td>\n",
       "      <td>0</td>\n",
       "      <td>0.046998</td>\n",
       "      <td>114.966</td>\n",
       "      <td>4</td>\n",
       "      <td>0.382</td>\n",
       "      <td>56</td>\n",
       "    </tr>\n",
       "    <tr>\n",
       "      <th>3</th>\n",
       "      <td>Chris Cooq</td>\n",
       "      <td>3J2Jpw61sO7l6Hc7qdYV91</td>\n",
       "      <td>Lactose</td>\n",
       "      <td>0.029518</td>\n",
       "      <td>0.803213</td>\n",
       "      <td>125381</td>\n",
       "      <td>0.579</td>\n",
       "      <td>0.912</td>\n",
       "      <td>5</td>\n",
       "      <td>0.099499</td>\n",
       "      <td>0.774714</td>\n",
       "      <td>0</td>\n",
       "      <td>0.072567</td>\n",
       "      <td>123.003</td>\n",
       "      <td>4</td>\n",
       "      <td>0.641</td>\n",
       "      <td>0</td>\n",
       "    </tr>\n",
       "    <tr>\n",
       "      <th>4</th>\n",
       "      <td>Chris Cooq</td>\n",
       "      <td>2jbYvQCyPgX3CdmAzeVeuS</td>\n",
       "      <td>Same - Original mix</td>\n",
       "      <td>0.000035</td>\n",
       "      <td>0.786145</td>\n",
       "      <td>124016</td>\n",
       "      <td>0.792</td>\n",
       "      <td>0.878</td>\n",
       "      <td>7</td>\n",
       "      <td>0.033233</td>\n",
       "      <td>0.804501</td>\n",
       "      <td>1</td>\n",
       "      <td>0.068427</td>\n",
       "      <td>120.047</td>\n",
       "      <td>4</td>\n",
       "      <td>0.928</td>\n",
       "      <td>0</td>\n",
       "    </tr>\n",
       "  </tbody>\n",
       "</table>\n",
       "</div>"
      ],
      "text/plain": [
       "  artist_name                track_id  \\\n",
       "0          YG  2RM4jf1Xa9zPgMGRDiht8O   \n",
       "1          YG  1tHDG53xJNGsItRA3vfVgs   \n",
       "2       R3HAB  6Wosx2euFPMT14UXiWudMy   \n",
       "3  Chris Cooq  3J2Jpw61sO7l6Hc7qdYV91   \n",
       "4  Chris Cooq  2jbYvQCyPgX3CdmAzeVeuS   \n",
       "\n",
       "                                       track_name  acousticness  danceability  \\\n",
       "0  Big Bank feat. 2 Chainz, Big Sean, Nicki Minaj      0.005843      0.745984   \n",
       "1                    BAND DRUM (feat. A$AP Rocky)      0.024498      0.849398   \n",
       "2                                   Radio Silence      0.025100      0.605422   \n",
       "3                                         Lactose      0.029518      0.803213   \n",
       "4                             Same - Original mix      0.000035      0.786145   \n",
       "\n",
       "   duration_ms  energy  instrumentalness  key  liveness  loudness  mode  \\\n",
       "0       238373   0.339             0.000    1  0.081281  0.846552     1   \n",
       "1       214800   0.557             0.000    8  0.286286  0.853331     1   \n",
       "2       138913   0.723             0.000    9  0.082482  0.875481     0   \n",
       "3       125381   0.579             0.912    5  0.099499  0.774714     0   \n",
       "4       124016   0.792             0.878    7  0.033233  0.804501     1   \n",
       "\n",
       "   speechiness    tempo  time_signature  valence  popularity  \n",
       "0     0.423395  203.927               4    0.118          15  \n",
       "1     0.473085  159.009               4    0.371           0  \n",
       "2     0.046998  114.966               4    0.382          56  \n",
       "3     0.072567  123.003               4    0.641           0  \n",
       "4     0.068427  120.047               4    0.928           0  "
      ]
     },
     "execution_count": 10,
     "metadata": {},
     "output_type": "execute_result"
    }
   ],
   "source": [
    "df_norm = df_songs.copy()\n",
    "for col in num_cols:\n",
    "    max_val = df_norm[col].max()\n",
    "    min_val = df_norm[col].min()\n",
    "    df_norm[col] = (df_songs[col] - min_val) / (max_val - min_val)\n",
    "\n",
    "df_norm.head()"
   ]
  },
  {
   "cell_type": "code",
   "execution_count": 11,
   "metadata": {},
   "outputs": [],
   "source": [
    "df_songs.to_csv(processed_data_path + 'df_songs_norm.csv')"
   ]
  },
  {
   "cell_type": "markdown",
   "metadata": {},
   "source": [
    "-----\n",
    "### on to the playlists dataset!"
   ]
  },
  {
   "cell_type": "code",
   "execution_count": 12,
   "metadata": {},
   "outputs": [
    {
     "name": "stdout",
     "output_type": "stream",
     "text": [
      "(12791369, 4)\n"
     ]
    },
    {
     "data": {
      "text/html": [
       "<div>\n",
       "<style scoped>\n",
       "    .dataframe tbody tr th:only-of-type {\n",
       "        vertical-align: middle;\n",
       "    }\n",
       "\n",
       "    .dataframe tbody tr th {\n",
       "        vertical-align: top;\n",
       "    }\n",
       "\n",
       "    .dataframe thead th {\n",
       "        text-align: right;\n",
       "    }\n",
       "</style>\n",
       "<table border=\"1\" class=\"dataframe\">\n",
       "  <thead>\n",
       "    <tr style=\"text-align: right;\">\n",
       "      <th></th>\n",
       "      <th>user_id</th>\n",
       "      <th>\"artistname\"</th>\n",
       "      <th>\"trackname\"</th>\n",
       "      <th>\"playlistname\"</th>\n",
       "    </tr>\n",
       "  </thead>\n",
       "  <tbody>\n",
       "    <tr>\n",
       "      <th>4576181</th>\n",
       "      <td>fa849dabeb14a2800ad5130907fc5018</td>\n",
       "      <td>The Mahones</td>\n",
       "      <td>Queen And Tequila</td>\n",
       "      <td>Irish music</td>\n",
       "    </tr>\n",
       "    <tr>\n",
       "      <th>845475</th>\n",
       "      <td>984c9d805f92f3202a3f8cc34c99bf93</td>\n",
       "      <td>Weezer</td>\n",
       "      <td>Pink Triangle - Live at Reading Festival / 1996</td>\n",
       "      <td>Weezerlist</td>\n",
       "    </tr>\n",
       "    <tr>\n",
       "      <th>7498902</th>\n",
       "      <td>ed94664f1a9110733aa33bd6d3df0850</td>\n",
       "      <td>The Acorn</td>\n",
       "      <td>Dents</td>\n",
       "      <td>Woohoo</td>\n",
       "    </tr>\n",
       "    <tr>\n",
       "      <th>12208135</th>\n",
       "      <td>309b64b01cc2e4086a92e4f88c274006</td>\n",
       "      <td>Gorillaz</td>\n",
       "      <td>Welcome To The World of The Plastic Beach - fe...</td>\n",
       "      <td>rap</td>\n",
       "    </tr>\n",
       "    <tr>\n",
       "      <th>1044050</th>\n",
       "      <td>860db0604f9326813352aa04924da543</td>\n",
       "      <td>Grizzly Bear</td>\n",
       "      <td>Yet Again</td>\n",
       "      <td>Starred</td>\n",
       "    </tr>\n",
       "  </tbody>\n",
       "</table>\n",
       "</div>"
      ],
      "text/plain": [
       "                                   user_id  \"artistname\"  \\\n",
       "4576181   fa849dabeb14a2800ad5130907fc5018   The Mahones   \n",
       "845475    984c9d805f92f3202a3f8cc34c99bf93        Weezer   \n",
       "7498902   ed94664f1a9110733aa33bd6d3df0850     The Acorn   \n",
       "12208135  309b64b01cc2e4086a92e4f88c274006      Gorillaz   \n",
       "1044050   860db0604f9326813352aa04924da543  Grizzly Bear   \n",
       "\n",
       "                                                \"trackname\"  \"playlistname\"  \n",
       "4576181                                   Queen And Tequila     Irish music  \n",
       "845475      Pink Triangle - Live at Reading Festival / 1996      Weezerlist  \n",
       "7498902                                               Dents          Woohoo  \n",
       "12208135  Welcome To The World of The Plastic Beach - fe...             rap  \n",
       "1044050                                           Yet Again         Starred  "
      ]
     },
     "execution_count": 12,
     "metadata": {},
     "output_type": "execute_result"
    }
   ],
   "source": [
    "print(df_playlists.shape)\n",
    "df_playlists.sample(5)"
   ]
  },
  {
   "cell_type": "code",
   "execution_count": 13,
   "metadata": {},
   "outputs": [
    {
     "data": {
      "text/plain": [
       "user_id                0\n",
       " \"artistname\"      33532\n",
       " \"trackname\"          85\n",
       " \"playlistname\"       41\n",
       "dtype: int64"
      ]
     },
     "execution_count": 13,
     "metadata": {},
     "output_type": "execute_result"
    }
   ],
   "source": [
    "df_playlists.isna().sum()"
   ]
  },
  {
   "cell_type": "code",
   "execution_count": 14,
   "metadata": {},
   "outputs": [],
   "source": [
    "df_playlists.dropna(inplace=True)\n",
    "df_playlists.reset_index(drop=True, inplace=True)"
   ]
  },
  {
   "cell_type": "markdown",
   "metadata": {},
   "source": [
    "The `artistname` & `trackname` are means to matching it with the track_id in our songs dataset.\n",
    "\n",
    "`user_id` will be used to group duplicated playlist names"
   ]
  },
  {
   "cell_type": "code",
   "execution_count": 15,
   "metadata": {},
   "outputs": [
    {
     "data": {
      "text/html": [
       "<div>\n",
       "<style scoped>\n",
       "    .dataframe tbody tr th:only-of-type {\n",
       "        vertical-align: middle;\n",
       "    }\n",
       "\n",
       "    .dataframe tbody tr th {\n",
       "        vertical-align: top;\n",
       "    }\n",
       "\n",
       "    .dataframe thead th {\n",
       "        text-align: right;\n",
       "    }\n",
       "</style>\n",
       "<table border=\"1\" class=\"dataframe\">\n",
       "  <thead>\n",
       "    <tr style=\"text-align: right;\">\n",
       "      <th></th>\n",
       "      <th>user_id</th>\n",
       "      <th>artist_name</th>\n",
       "      <th>track_name</th>\n",
       "      <th>playlist_name</th>\n",
       "    </tr>\n",
       "  </thead>\n",
       "  <tbody>\n",
       "    <tr>\n",
       "      <th>0</th>\n",
       "      <td>9cc0cfd4d7d7885102480dd99e7a90d6</td>\n",
       "      <td>Elvis Costello</td>\n",
       "      <td>(The Angels Wanna Wear My) Red Shoes</td>\n",
       "      <td>HARD ROCK 2010</td>\n",
       "    </tr>\n",
       "    <tr>\n",
       "      <th>1</th>\n",
       "      <td>9cc0cfd4d7d7885102480dd99e7a90d6</td>\n",
       "      <td>Elvis Costello &amp; The Attractions</td>\n",
       "      <td>(What's So Funny 'Bout) Peace, Love And Unders...</td>\n",
       "      <td>HARD ROCK 2010</td>\n",
       "    </tr>\n",
       "    <tr>\n",
       "      <th>2</th>\n",
       "      <td>9cc0cfd4d7d7885102480dd99e7a90d6</td>\n",
       "      <td>Tiffany Page</td>\n",
       "      <td>7 Years Too Late</td>\n",
       "      <td>HARD ROCK 2010</td>\n",
       "    </tr>\n",
       "    <tr>\n",
       "      <th>3</th>\n",
       "      <td>9cc0cfd4d7d7885102480dd99e7a90d6</td>\n",
       "      <td>Elvis Costello &amp; The Attractions</td>\n",
       "      <td>Accidents Will Happen</td>\n",
       "      <td>HARD ROCK 2010</td>\n",
       "    </tr>\n",
       "    <tr>\n",
       "      <th>4</th>\n",
       "      <td>9cc0cfd4d7d7885102480dd99e7a90d6</td>\n",
       "      <td>Elvis Costello</td>\n",
       "      <td>Alison</td>\n",
       "      <td>HARD ROCK 2010</td>\n",
       "    </tr>\n",
       "  </tbody>\n",
       "</table>\n",
       "</div>"
      ],
      "text/plain": [
       "                            user_id                       artist_name  \\\n",
       "0  9cc0cfd4d7d7885102480dd99e7a90d6                    Elvis Costello   \n",
       "1  9cc0cfd4d7d7885102480dd99e7a90d6  Elvis Costello & The Attractions   \n",
       "2  9cc0cfd4d7d7885102480dd99e7a90d6                      Tiffany Page   \n",
       "3  9cc0cfd4d7d7885102480dd99e7a90d6  Elvis Costello & The Attractions   \n",
       "4  9cc0cfd4d7d7885102480dd99e7a90d6                    Elvis Costello   \n",
       "\n",
       "                                          track_name   playlist_name  \n",
       "0               (The Angels Wanna Wear My) Red Shoes  HARD ROCK 2010  \n",
       "1  (What's So Funny 'Bout) Peace, Love And Unders...  HARD ROCK 2010  \n",
       "2                                   7 Years Too Late  HARD ROCK 2010  \n",
       "3                              Accidents Will Happen  HARD ROCK 2010  \n",
       "4                                             Alison  HARD ROCK 2010  "
      ]
     },
     "execution_count": 15,
     "metadata": {},
     "output_type": "execute_result"
    }
   ],
   "source": [
    "new_cols = ['user_id', 'artist_name', 'track_name', 'playlist_name']\n",
    "df_playlists.columns = new_cols\n",
    "df_playlists.head()"
   ]
  },
  {
   "cell_type": "markdown",
   "metadata": {},
   "source": [
    "-----\n",
    "\n",
    "I've little faith this will work, but try we must!\n",
    "\n",
    "If merging the datasets on artist & track name works, it will save us a ton of scraping efforts -"
   ]
  },
  {
   "cell_type": "code",
   "execution_count": 16,
   "metadata": {},
   "outputs": [
    {
     "data": {
      "text/html": [
       "<div>\n",
       "<style scoped>\n",
       "    .dataframe tbody tr th:only-of-type {\n",
       "        vertical-align: middle;\n",
       "    }\n",
       "\n",
       "    .dataframe tbody tr th {\n",
       "        vertical-align: top;\n",
       "    }\n",
       "\n",
       "    .dataframe thead th {\n",
       "        text-align: right;\n",
       "    }\n",
       "</style>\n",
       "<table border=\"1\" class=\"dataframe\">\n",
       "  <thead>\n",
       "    <tr style=\"text-align: right;\">\n",
       "      <th></th>\n",
       "      <th>track_id</th>\n",
       "      <th>artist_name</th>\n",
       "      <th>track_name</th>\n",
       "    </tr>\n",
       "  </thead>\n",
       "  <tbody>\n",
       "    <tr>\n",
       "      <th>0</th>\n",
       "      <td>2RM4jf1Xa9zPgMGRDiht8O</td>\n",
       "      <td>YG</td>\n",
       "      <td>Big Bank feat. 2 Chainz, Big Sean, Nicki Minaj</td>\n",
       "    </tr>\n",
       "    <tr>\n",
       "      <th>1</th>\n",
       "      <td>1tHDG53xJNGsItRA3vfVgs</td>\n",
       "      <td>YG</td>\n",
       "      <td>BAND DRUM (feat. A$AP Rocky)</td>\n",
       "    </tr>\n",
       "    <tr>\n",
       "      <th>2</th>\n",
       "      <td>6Wosx2euFPMT14UXiWudMy</td>\n",
       "      <td>R3HAB</td>\n",
       "      <td>Radio Silence</td>\n",
       "    </tr>\n",
       "    <tr>\n",
       "      <th>3</th>\n",
       "      <td>3J2Jpw61sO7l6Hc7qdYV91</td>\n",
       "      <td>Chris Cooq</td>\n",
       "      <td>Lactose</td>\n",
       "    </tr>\n",
       "    <tr>\n",
       "      <th>4</th>\n",
       "      <td>2jbYvQCyPgX3CdmAzeVeuS</td>\n",
       "      <td>Chris Cooq</td>\n",
       "      <td>Same - Original mix</td>\n",
       "    </tr>\n",
       "  </tbody>\n",
       "</table>\n",
       "</div>"
      ],
      "text/plain": [
       "                 track_id artist_name  \\\n",
       "0  2RM4jf1Xa9zPgMGRDiht8O          YG   \n",
       "1  1tHDG53xJNGsItRA3vfVgs          YG   \n",
       "2  6Wosx2euFPMT14UXiWudMy       R3HAB   \n",
       "3  3J2Jpw61sO7l6Hc7qdYV91  Chris Cooq   \n",
       "4  2jbYvQCyPgX3CdmAzeVeuS  Chris Cooq   \n",
       "\n",
       "                                       track_name  \n",
       "0  Big Bank feat. 2 Chainz, Big Sean, Nicki Minaj  \n",
       "1                    BAND DRUM (feat. A$AP Rocky)  \n",
       "2                                   Radio Silence  \n",
       "3                                         Lactose  \n",
       "4                             Same - Original mix  "
      ]
     },
     "execution_count": 16,
     "metadata": {},
     "output_type": "execute_result"
    }
   ],
   "source": [
    "df_songs[['track_id', 'artist_name', 'track_name']].head()"
   ]
  },
  {
   "cell_type": "code",
   "execution_count": 17,
   "metadata": {},
   "outputs": [
    {
     "data": {
      "text/plain": [
       "(12757768, 4)"
      ]
     },
     "execution_count": 17,
     "metadata": {},
     "output_type": "execute_result"
    }
   ],
   "source": [
    "test_merge = pd.merge(df_playlists[['playlist_name', 'artist_name', 'track_name']],\n",
    "                      df_songs[['track_id', 'artist_name', 'track_name']],\n",
    "                      on=['artist_name', 'track_name'], how='left')\n",
    "test_merge.shape"
   ]
  },
  {
   "cell_type": "code",
   "execution_count": 18,
   "metadata": {},
   "outputs": [
    {
     "data": {
      "text/plain": [
       "playlist_name           0\n",
       "artist_name             0\n",
       "track_name              0\n",
       "track_id         12624265\n",
       "dtype: int64"
      ]
     },
     "execution_count": 18,
     "metadata": {},
     "output_type": "execute_result"
    }
   ],
   "source": [
    "test_merge.isna().sum()"
   ]
  },
  {
   "cell_type": "code",
   "execution_count": 19,
   "metadata": {},
   "outputs": [
    {
     "data": {
      "text/html": [
       "<div>\n",
       "<style scoped>\n",
       "    .dataframe tbody tr th:only-of-type {\n",
       "        vertical-align: middle;\n",
       "    }\n",
       "\n",
       "    .dataframe tbody tr th {\n",
       "        vertical-align: top;\n",
       "    }\n",
       "\n",
       "    .dataframe thead th {\n",
       "        text-align: right;\n",
       "    }\n",
       "</style>\n",
       "<table border=\"1\" class=\"dataframe\">\n",
       "  <thead>\n",
       "    <tr style=\"text-align: right;\">\n",
       "      <th></th>\n",
       "      <th>playlist_name</th>\n",
       "      <th>artist_name</th>\n",
       "      <th>track_name</th>\n",
       "      <th>track_id</th>\n",
       "    </tr>\n",
       "  </thead>\n",
       "  <tbody>\n",
       "    <tr>\n",
       "      <th>7545544</th>\n",
       "      <td>Artistas</td>\n",
       "      <td>Elvis Presley</td>\n",
       "      <td>Wooden Heart</td>\n",
       "      <td>5p1vNflCDCkOKOJRyszojj</td>\n",
       "    </tr>\n",
       "    <tr>\n",
       "      <th>11287705</th>\n",
       "      <td>Rolig/sov</td>\n",
       "      <td>Ludovico Einaudi</td>\n",
       "      <td>Una Mattina</td>\n",
       "      <td>3iCNcS1uC2Pm9XKc9BERhq</td>\n",
       "    </tr>\n",
       "    <tr>\n",
       "      <th>9024297</th>\n",
       "      <td>Starred</td>\n",
       "      <td>Katy Perry</td>\n",
       "      <td>Roar</td>\n",
       "      <td>4qvduiVJVHg5WdjEAMV9Rg</td>\n",
       "    </tr>\n",
       "    <tr>\n",
       "      <th>10345423</th>\n",
       "      <td>Country</td>\n",
       "      <td>Thomas Rhett</td>\n",
       "      <td>Get Me Some Of That</td>\n",
       "      <td>5HhOsYysrTRWD2bCcSiAYB</td>\n",
       "    </tr>\n",
       "    <tr>\n",
       "      <th>276719</th>\n",
       "      <td>Mix</td>\n",
       "      <td>Journey</td>\n",
       "      <td>Don't Stop Believin'</td>\n",
       "      <td>3DtK601PJiNPe8COo67unB</td>\n",
       "    </tr>\n",
       "  </tbody>\n",
       "</table>\n",
       "</div>"
      ],
      "text/plain": [
       "         playlist_name       artist_name            track_name  \\\n",
       "7545544       Artistas     Elvis Presley          Wooden Heart   \n",
       "11287705     Rolig/sov  Ludovico Einaudi           Una Mattina   \n",
       "9024297        Starred        Katy Perry                  Roar   \n",
       "10345423       Country      Thomas Rhett   Get Me Some Of That   \n",
       "276719             Mix           Journey  Don't Stop Believin'   \n",
       "\n",
       "                        track_id  \n",
       "7545544   5p1vNflCDCkOKOJRyszojj  \n",
       "11287705  3iCNcS1uC2Pm9XKc9BERhq  \n",
       "9024297   4qvduiVJVHg5WdjEAMV9Rg  \n",
       "10345423  5HhOsYysrTRWD2bCcSiAYB  \n",
       "276719    3DtK601PJiNPe8COo67unB  "
      ]
     },
     "execution_count": 19,
     "metadata": {},
     "output_type": "execute_result"
    }
   ],
   "source": [
    "test_merge[~test_merge.isna().any(axis=1)].sample(5)"
   ]
  },
  {
   "cell_type": "markdown",
   "metadata": {},
   "source": [
    "ah well, worth a try at least.\n",
    "\n",
    "At this point, I gave fuzzy matching of `artist_name` and then `track_name` a go, but still came up with a woefully short list of accurate connections.\n",
    "\n",
    "So, brutish though it may be, onto scraping.\n",
    "\n",
    "Starting with creating a dict of artists and their tracks, and exporting it for easier access in future use.\n",
    "\n",
    "-----\n",
    "-----\n",
    "<br>\n",
    "<center> <b><i>Note!</b></i>\n",
    "<br>\n",
    "\n",
    "If this is the first time running this notebook, you'll need to uncomment and run the next few cells to create the artist-tracks dictionary.  This was process heavy and time consuming, so I exported the cleaned up data for future use!\n",
    "\n",
    "-----"
   ]
  },
  {
   "cell_type": "code",
   "execution_count": 18,
   "metadata": {},
   "outputs": [],
   "source": [
    "# # create and export artist-tracks dictionary\n",
    "\n",
    "# scrape_df = df_playlists[['artist_name', 'track_name']].copy()\n",
    "# scrape_df.drop_duplicates(inplace=True)\n",
    "# print(f'Dropped rows: {len(df_playlists) - len(scrape_df):,}')\n",
    "# print(f'remaining track count: {len(scrape_df):,}')\n",
    "\n",
    "# artist_songs = {}\n",
    "\n",
    "# for row in tqdm(scrape_df.iterrows(), total=len(scrape_df)):\n",
    "#     artist, track = row[1][['artist_name', 'track_name']]\n",
    "#     if artist in artist_songs:\n",
    "#         if track not in artist_songs[artist]:\n",
    "#             artist_songs[artist].append(track)\n",
    "#         else:\n",
    "#             pass\n",
    "#     else:\n",
    "#         artist_songs[artist] = [track]\n",
    "\n",
    "# with open(processed_data_path + 'artist-songs-dict.json', 'w') as f:\n",
    "#     json.dump(artist_songs, f)"
   ]
  },
  {
   "cell_type": "code",
   "execution_count": 20,
   "metadata": {},
   "outputs": [],
   "source": [
    "with open(processed_data_path + 'artist-songs-dict.json', 'r') as f:\n",
    "    artist_songs = json.load(f)"
   ]
  },
  {
   "cell_type": "code",
   "execution_count": 21,
   "metadata": {},
   "outputs": [
    {
     "name": "stdout",
     "output_type": "stream",
     "text": [
      "\n",
      "current count of artists:  287442\n",
      "\n",
      "count of artists after .lower():  280206\n",
      "\n",
      "count of .lower() after dropping spaces:  278241\n"
     ]
    }
   ],
   "source": [
    "list_artists = list(artist_songs.keys())\n",
    "print(\"\\ncurrent count of artists: \", len(list_artists))\n",
    "\n",
    "artists_lower = [i.lower() for i in list_artists]\n",
    "print(\"\\ncount of artists after .lower(): \", len(set(artists_lower)))\n",
    "\n",
    "artists_nospace = [i.replace(\" \", \"\") for i in artists_lower]\n",
    "print(\"\\ncount of .lower() after dropping spaces: \", len(set(artists_nospace)))\n"
   ]
  },
  {
   "cell_type": "markdown",
   "metadata": {},
   "source": [
    "As we can combine some of these to drop nearly 10k keys, let's give it a go.\n",
    "\n",
    "We'll create a dictionary with keys made from the .lower().replace(\" \", \"\") and a list of matching names that produce that key.  So - \"GreenDay\", \"Greenday\", \"greenday\", \"Green Day\", and \"green day\" all show up as:\n",
    "\n",
    "`{\"greenday\": \"GreenDay\", \"Greenday\", \"greenday\", \"Green Day\", and \"green day\"}`\n",
    "\n",
    "Once we have sussed out duplicate artists, we'll then go through our original dictionary and find which spelling has the most entries and consolidate all the tracks under that single key."
   ]
  },
  {
   "cell_type": "code",
   "execution_count": 22,
   "metadata": {},
   "outputs": [
    {
     "name": "stderr",
     "output_type": "stream",
     "text": [
      "100%|██████████| 287442/287442 [00:00<00:00, 628567.64it/s]\n"
     ]
    },
    {
     "data": {
      "text/plain": [
       "[('elviscostello', ['Elvis Costello']),\n",
       " ('elviscostello&theattractions',\n",
       "  ['Elvis Costello & The Attractions', 'Elvis Costello & the Attractions']),\n",
       " ('tiffanypage', ['Tiffany Page']),\n",
       " ('lissie', ['Lissie']),\n",
       " ('paulmccartney', ['Paul McCartney', 'Paul Mccartney', 'Paul  McCartney'])]"
      ]
     },
     "execution_count": 22,
     "metadata": {},
     "output_type": "execute_result"
    }
   ],
   "source": [
    "alt_names = {k:[] for k in artists_nospace}\n",
    "\n",
    "for i in tqdm(list_artists):\n",
    "    matching_key = i.lower().replace(\" \", \"\")\n",
    "    alt_names[matching_key].append(i)\n",
    "\n",
    "list(alt_names.items())[:5]"
   ]
  },
  {
   "cell_type": "code",
   "execution_count": 23,
   "metadata": {},
   "outputs": [
    {
     "name": "stdout",
     "output_type": "stream",
     "text": [
      "len(alt_names) before:  278241\n",
      "len(alt_names) after:  7862 \n",
      "\n"
     ]
    },
    {
     "data": {
      "text/plain": [
       "[('elviscostello&theattractions',\n",
       "  ['Elvis Costello & The Attractions', 'Elvis Costello & the Attractions']),\n",
       " ('paulmccartney', ['Paul McCartney', 'Paul Mccartney', 'Paul  McCartney']),\n",
       " ('crowdedhouse', ['Crowded House', 'Crowded house', 'CROWDED HOUSE']),\n",
       " ('noahandthewhale',\n",
       "  ['Noah And The Whale', 'Noah and the Whale', 'Noah and The Whale']),\n",
       " ('pearljam', ['Pearl Jam', 'Pearl jam', 'PEARL JAM'])]"
      ]
     },
     "execution_count": 23,
     "metadata": {},
     "output_type": "execute_result"
    }
   ],
   "source": [
    "# isolating all entries with multiple names\n",
    "print('len(alt_names) before: ', len(alt_names))\n",
    "\n",
    "for k, v in dict(alt_names).items():\n",
    "    if len(v) == 1:\n",
    "        del alt_names[k]\n",
    "\n",
    "print('len(alt_names) after: ', len(alt_names), '\\n')\n",
    "\n",
    "list(alt_names.items())[:5]"
   ]
  },
  {
   "cell_type": "code",
   "execution_count": 24,
   "metadata": {},
   "outputs": [
    {
     "name": "stdout",
     "output_type": "stream",
     "text": [
      "before merge:  287442\n",
      "after merge:  278241\n"
     ]
    }
   ],
   "source": [
    "print('before merge: ', len(artist_songs))\n",
    "\n",
    "for k, v in alt_names.items():\n",
    "    perms = list(v)\n",
    "    best_key = perms[0]\n",
    "\n",
    "    for i in perms:\n",
    "        if len(artist_songs[i]) > len(artist_songs[best_key]):\n",
    "            best_key = str(i)\n",
    "\n",
    "    perms.remove(best_key)\n",
    "    \n",
    "    for i in perms:\n",
    "        artist_songs[best_key].extend(artist_songs[i])\n",
    "        del artist_songs[i]\n",
    "\n",
    "print('after merge: ', len(artist_songs))"
   ]
  },
  {
   "cell_type": "markdown",
   "metadata": {},
   "source": [
    "Removing duplicate tracks from merging these artists -"
   ]
  },
  {
   "cell_type": "code",
   "execution_count": 25,
   "metadata": {},
   "outputs": [],
   "source": [
    "def track_filter(track_list):\n",
    "    track_list = list(set(track_list))\n",
    "\n",
    "    string_test = []\n",
    "    trimmed_list = []\n",
    "\n",
    "    for i in track_list:\n",
    "        test_string = str(i).lower().replace(\" \", \"\")\n",
    "        if test_string in string_test:\n",
    "            pass\n",
    "        else:\n",
    "            trimmed_list.append(i)\n",
    "            string_test.append(test_string)\n",
    "\n",
    "    return trimmed_list"
   ]
  },
  {
   "cell_type": "code",
   "execution_count": 26,
   "metadata": {},
   "outputs": [
    {
     "name": "stdout",
     "output_type": "stream",
     "text": [
      "Number of duplicate tracks dropped:  101464\n"
     ]
    }
   ],
   "source": [
    "# just to see how useful this filter is, let's count the dropped tracks along the way\n",
    "dupes_removed = 0\n",
    "\n",
    "for k, v in artist_songs.items():\n",
    "    start_len = len(v)\n",
    "    trim_list = track_filter(v)\n",
    "    end_len = len(trim_list)\n",
    "    dupes_removed += start_len - end_len\n",
    "    artist_songs[k] = trim_list\n",
    "\n",
    "print('Number of duplicate tracks dropped: ', dupes_removed)"
   ]
  },
  {
   "cell_type": "markdown",
   "metadata": {},
   "source": [
    "Now that we've got some uniformity to these entries, let's bring this back to the `df_playlists` to make it more usable."
   ]
  },
  {
   "cell_type": "code",
   "execution_count": 27,
   "metadata": {},
   "outputs": [],
   "source": [
    "# applying that same process for consolidating the names to the artists in our df\n",
    "replace_names = {i.lower().replace(\" \", \"\"):i for i in list(artist_songs.keys())}\n",
    "\n",
    "df_playlists['artist_name'] = df_playlists['artist_name'].str.lower()\n",
    "df_playlists['artist_name'] = df_playlists['artist_name'].str.replace(\" \", \"\")\n",
    "df_playlists['artist_name'] = df_playlists['artist_name'].map(replace_names)"
   ]
  },
  {
   "cell_type": "code",
   "execution_count": 28,
   "metadata": {},
   "outputs": [],
   "source": [
    "# track replacement is a little more in depth -\n",
    "# we need a nested dictionary in case multiple artists have songs with the same title\n",
    "track_rename_dict = {}\n",
    "for k, v in artist_songs.items():\n",
    "    lower_nospace = {str(i).lower().replace(\" \", \"\"):str(i) for i in v}\n",
    "    track_rename_dict[k] = lower_nospace"
   ]
  },
  {
   "cell_type": "code",
   "execution_count": 31,
   "metadata": {},
   "outputs": [],
   "source": [
    "def consolidate_track_name(artist, track):\n",
    "    track_check = track.lower().replace(\" \", \"\")\n",
    "    if track_check in track_rename_dict[artist]:\n",
    "        return track_rename_dict[artist][track_check]\n",
    "    else:\n",
    "        return track\n",
    "\n",
    "df_playlists['rename_track'] = df_playlists.apply(\n",
    "                                    lambda x: consolidate_track_name(\n",
    "                                        x['artist_name'], x['track_name']\n",
    "                                        )\n",
    "                                    , axis=1\n",
    "                                )"
   ]
  },
  {
   "cell_type": "code",
   "execution_count": 39,
   "metadata": {},
   "outputs": [
    {
     "data": {
      "text/html": [
       "<div>\n",
       "<style scoped>\n",
       "    .dataframe tbody tr th:only-of-type {\n",
       "        vertical-align: middle;\n",
       "    }\n",
       "\n",
       "    .dataframe tbody tr th {\n",
       "        vertical-align: top;\n",
       "    }\n",
       "\n",
       "    .dataframe thead th {\n",
       "        text-align: right;\n",
       "    }\n",
       "</style>\n",
       "<table border=\"1\" class=\"dataframe\">\n",
       "  <thead>\n",
       "    <tr style=\"text-align: right;\">\n",
       "      <th></th>\n",
       "      <th>user_id</th>\n",
       "      <th>artist_name</th>\n",
       "      <th>track_name</th>\n",
       "      <th>playlist_name</th>\n",
       "      <th>rename_track</th>\n",
       "    </tr>\n",
       "  </thead>\n",
       "  <tbody>\n",
       "    <tr>\n",
       "      <th>0</th>\n",
       "      <td>9cc0cfd4d7d7885102480dd99e7a90d6</td>\n",
       "      <td>Elvis Costello</td>\n",
       "      <td>(The Angels Wanna Wear My) Red Shoes</td>\n",
       "      <td>HARD ROCK 2010</td>\n",
       "      <td>(the Angels Wanna Wear My) Red Shoes</td>\n",
       "    </tr>\n",
       "    <tr>\n",
       "      <th>9</th>\n",
       "      <td>9cc0cfd4d7d7885102480dd99e7a90d6</td>\n",
       "      <td>Lissie</td>\n",
       "      <td>Bright Side</td>\n",
       "      <td>HARD ROCK 2010</td>\n",
       "      <td>Brightside</td>\n",
       "    </tr>\n",
       "    <tr>\n",
       "      <th>13</th>\n",
       "      <td>9cc0cfd4d7d7885102480dd99e7a90d6</td>\n",
       "      <td>Crowded House</td>\n",
       "      <td>Don't Dream It's Over</td>\n",
       "      <td>HARD ROCK 2010</td>\n",
       "      <td>Don't dream it's over</td>\n",
       "    </tr>\n",
       "    <tr>\n",
       "      <th>15</th>\n",
       "      <td>9cc0cfd4d7d7885102480dd99e7a90d6</td>\n",
       "      <td>Crowded House</td>\n",
       "      <td>Fall At Your Feet</td>\n",
       "      <td>HARD ROCK 2010</td>\n",
       "      <td>Fall at Your Feet</td>\n",
       "    </tr>\n",
       "    <tr>\n",
       "      <th>68</th>\n",
       "      <td>9cc0cfd4d7d7885102480dd99e7a90d6</td>\n",
       "      <td>Noel Gallagher's High Flying Birds</td>\n",
       "      <td>AKA... What A Life!</td>\n",
       "      <td>IOW 2012</td>\n",
       "      <td>AKA...What A Life!</td>\n",
       "    </tr>\n",
       "    <tr>\n",
       "      <th>...</th>\n",
       "      <td>...</td>\n",
       "      <td>...</td>\n",
       "      <td>...</td>\n",
       "      <td>...</td>\n",
       "      <td>...</td>\n",
       "    </tr>\n",
       "    <tr>\n",
       "      <th>12757746</th>\n",
       "      <td>2302bf9c64dc63d88a750215ed187f2c</td>\n",
       "      <td>Rage Against The Machine</td>\n",
       "      <td>Sleep Now In The Fire</td>\n",
       "      <td>iPhone</td>\n",
       "      <td>Sleep Now in The Fire</td>\n",
       "    </tr>\n",
       "    <tr>\n",
       "      <th>12757756</th>\n",
       "      <td>2302bf9c64dc63d88a750215ed187f2c</td>\n",
       "      <td>Def Leppard</td>\n",
       "      <td>Too Late For Love</td>\n",
       "      <td>iPhone</td>\n",
       "      <td>Too Late for Love</td>\n",
       "    </tr>\n",
       "    <tr>\n",
       "      <th>12757760</th>\n",
       "      <td>2302bf9c64dc63d88a750215ed187f2c</td>\n",
       "      <td>Johnny Cash</td>\n",
       "      <td>When It's Springtime In Alaska (It's Forty Below)</td>\n",
       "      <td>iPhone</td>\n",
       "      <td>When It's Springtime in Alaska (It's Forty Below)</td>\n",
       "    </tr>\n",
       "    <tr>\n",
       "      <th>12757761</th>\n",
       "      <td>2302bf9c64dc63d88a750215ed187f2c</td>\n",
       "      <td>U2</td>\n",
       "      <td>When Love Comes To Town</td>\n",
       "      <td>iPhone</td>\n",
       "      <td>When Love Comes to Town</td>\n",
       "    </tr>\n",
       "    <tr>\n",
       "      <th>12757762</th>\n",
       "      <td>2302bf9c64dc63d88a750215ed187f2c</td>\n",
       "      <td>Stone Temple Pilots</td>\n",
       "      <td>Wicked Garden</td>\n",
       "      <td>iPhone</td>\n",
       "      <td>WICKED GARDEN</td>\n",
       "    </tr>\n",
       "  </tbody>\n",
       "</table>\n",
       "<p>1150873 rows × 5 columns</p>\n",
       "</div>"
      ],
      "text/plain": [
       "                                   user_id  \\\n",
       "0         9cc0cfd4d7d7885102480dd99e7a90d6   \n",
       "9         9cc0cfd4d7d7885102480dd99e7a90d6   \n",
       "13        9cc0cfd4d7d7885102480dd99e7a90d6   \n",
       "15        9cc0cfd4d7d7885102480dd99e7a90d6   \n",
       "68        9cc0cfd4d7d7885102480dd99e7a90d6   \n",
       "...                                    ...   \n",
       "12757746  2302bf9c64dc63d88a750215ed187f2c   \n",
       "12757756  2302bf9c64dc63d88a750215ed187f2c   \n",
       "12757760  2302bf9c64dc63d88a750215ed187f2c   \n",
       "12757761  2302bf9c64dc63d88a750215ed187f2c   \n",
       "12757762  2302bf9c64dc63d88a750215ed187f2c   \n",
       "\n",
       "                                 artist_name  \\\n",
       "0                             Elvis Costello   \n",
       "9                                     Lissie   \n",
       "13                             Crowded House   \n",
       "15                             Crowded House   \n",
       "68        Noel Gallagher's High Flying Birds   \n",
       "...                                      ...   \n",
       "12757746            Rage Against The Machine   \n",
       "12757756                         Def Leppard   \n",
       "12757760                         Johnny Cash   \n",
       "12757761                                  U2   \n",
       "12757762                 Stone Temple Pilots   \n",
       "\n",
       "                                                 track_name   playlist_name  \\\n",
       "0                      (The Angels Wanna Wear My) Red Shoes  HARD ROCK 2010   \n",
       "9                                               Bright Side  HARD ROCK 2010   \n",
       "13                                    Don't Dream It's Over  HARD ROCK 2010   \n",
       "15                                        Fall At Your Feet  HARD ROCK 2010   \n",
       "68                                      AKA... What A Life!        IOW 2012   \n",
       "...                                                     ...             ...   \n",
       "12757746                              Sleep Now In The Fire          iPhone   \n",
       "12757756                                  Too Late For Love          iPhone   \n",
       "12757760  When It's Springtime In Alaska (It's Forty Below)          iPhone   \n",
       "12757761                            When Love Comes To Town          iPhone   \n",
       "12757762                                      Wicked Garden          iPhone   \n",
       "\n",
       "                                               rename_track  \n",
       "0                      (the Angels Wanna Wear My) Red Shoes  \n",
       "9                                                Brightside  \n",
       "13                                    Don't dream it's over  \n",
       "15                                        Fall at Your Feet  \n",
       "68                                       AKA...What A Life!  \n",
       "...                                                     ...  \n",
       "12757746                              Sleep Now in The Fire  \n",
       "12757756                                  Too Late for Love  \n",
       "12757760  When It's Springtime in Alaska (It's Forty Below)  \n",
       "12757761                            When Love Comes to Town  \n",
       "12757762                                      WICKED GARDEN  \n",
       "\n",
       "[1150873 rows x 5 columns]"
      ]
     },
     "execution_count": 39,
     "metadata": {},
     "output_type": "execute_result"
    }
   ],
   "source": [
    "df_playlists.iloc[np.where(df_playlists['track_name'] != df_playlists['rename_track'])]"
   ]
  },
  {
   "cell_type": "code",
   "execution_count": 40,
   "metadata": {},
   "outputs": [
    {
     "data": {
      "text/plain": [
       "user_id            15906\n",
       "artist_name       278235\n",
       "track_name       1973112\n",
       "playlist_name     156706\n",
       "rename_track     1913345\n",
       "dtype: int64"
      ]
     },
     "execution_count": 40,
     "metadata": {},
     "output_type": "execute_result"
    }
   ],
   "source": [
    "df_playlists.nunique()"
   ]
  },
  {
   "cell_type": "code",
   "execution_count": 41,
   "metadata": {},
   "outputs": [
    {
     "data": {
      "text/plain": [
       "user_id            15906\n",
       "artist_name       278235\n",
       "track_name       1913345\n",
       "playlist_name     156706\n",
       "dtype: int64"
      ]
     },
     "execution_count": 41,
     "metadata": {},
     "output_type": "execute_result"
    }
   ],
   "source": [
    "df_playlists['track_name'] = df_playlists['rename_track']\n",
    "df_playlists.drop(['rename_track'], axis=1, inplace=True)\n",
    "df_playlists.nunique()"
   ]
  },
  {
   "cell_type": "markdown",
   "metadata": {},
   "source": [
    "Further consolidation so that \"Song Title\" and \"Song Title feat. Somebody Else\" merge"
   ]
  },
  {
   "cell_type": "code",
   "execution_count": 44,
   "metadata": {},
   "outputs": [],
   "source": [
    "list_artists = list(artist_songs.keys())\n",
    "\n",
    "# apparently still had a song or two that were not saved as strings.\n",
    "for k, v in artist_songs.items():\n",
    "    artist_songs[k] = [str(i) for i in v]"
   ]
  },
  {
   "cell_type": "code",
   "execution_count": 45,
   "metadata": {},
   "outputs": [
    {
     "name": "stderr",
     "output_type": "stream",
     "text": [
      "100%|██████████| 278241/278241 [01:37<00:00, 2850.85it/s] \n"
     ]
    }
   ],
   "source": [
    "def check_substring_matches(list_of_strings):\n",
    "    test_list = sorted(list_of_strings, key=len)\n",
    "    subb_dict = {}\n",
    "    while test_list:\n",
    "        test = test_list[0]\n",
    "        matches = [i for i in test_list if test.lower() in i.lower()]\n",
    "        test_list = [i for i in test_list if i not in matches]\n",
    "        subb_dict[test] = matches\n",
    "    return subb_dict\n",
    "\n",
    "track_subs = {}\n",
    "\n",
    "for artist in tqdm(list_artists):\n",
    "    consolidated = check_substring_matches(artist_songs[artist])\n",
    "    track_subs[artist] = {}\n",
    "    artist_songs[artist] = list(consolidated.keys())\n",
    "    for k,v in consolidated.items():\n",
    "        track_subs[artist].update({i:k for i in v})"
   ]
  },
  {
   "cell_type": "code",
   "execution_count": 47,
   "metadata": {},
   "outputs": [
    {
     "name": "stdout",
     "output_type": "stream",
     "text": [
      "user_id            0\n",
      "artist_name        0\n",
      "track_name         0\n",
      "playlist_name      0\n",
      "trim_track_name    0\n",
      "dtype: int64\n"
     ]
    },
    {
     "data": {
      "text/plain": [
       "user_id              15906\n",
       "artist_name         278235\n",
       "track_name         1913345\n",
       "playlist_name       156706\n",
       "trim_track_name    1565726\n",
       "dtype: int64"
      ]
     },
     "execution_count": 47,
     "metadata": {},
     "output_type": "execute_result"
    }
   ],
   "source": [
    "def trim_track(x, y):\n",
    "    if y in track_subs[x]:\n",
    "        return track_subs[x][y]\n",
    "    else:\n",
    "        return y\n",
    "\n",
    "df_playlists['trim_track_name'] = df_playlists.apply(lambda x: trim_track(x['artist_name'], x['track_name']), axis=1)\n",
    "\n",
    "print(df_playlists.isna().sum())\n",
    "df_playlists.nunique()"
   ]
  },
  {
   "cell_type": "code",
   "execution_count": 48,
   "metadata": {},
   "outputs": [
    {
     "data": {
      "text/html": [
       "<div>\n",
       "<style scoped>\n",
       "    .dataframe tbody tr th:only-of-type {\n",
       "        vertical-align: middle;\n",
       "    }\n",
       "\n",
       "    .dataframe tbody tr th {\n",
       "        vertical-align: top;\n",
       "    }\n",
       "\n",
       "    .dataframe thead th {\n",
       "        text-align: right;\n",
       "    }\n",
       "</style>\n",
       "<table border=\"1\" class=\"dataframe\">\n",
       "  <thead>\n",
       "    <tr style=\"text-align: right;\">\n",
       "      <th></th>\n",
       "      <th>user_id</th>\n",
       "      <th>artist_name</th>\n",
       "      <th>playlist_name</th>\n",
       "      <th>track_name</th>\n",
       "    </tr>\n",
       "  </thead>\n",
       "  <tbody>\n",
       "    <tr>\n",
       "      <th>0</th>\n",
       "      <td>9cc0cfd4d7d7885102480dd99e7a90d6</td>\n",
       "      <td>Elvis Costello</td>\n",
       "      <td>HARD ROCK 2010</td>\n",
       "      <td>(the Angels Wanna Wear My) Red Shoes</td>\n",
       "    </tr>\n",
       "    <tr>\n",
       "      <th>1</th>\n",
       "      <td>9cc0cfd4d7d7885102480dd99e7a90d6</td>\n",
       "      <td>Elvis Costello &amp; The Attractions</td>\n",
       "      <td>HARD ROCK 2010</td>\n",
       "      <td>(What's So Funny 'Bout) Peace, Love And Unders...</td>\n",
       "    </tr>\n",
       "    <tr>\n",
       "      <th>2</th>\n",
       "      <td>9cc0cfd4d7d7885102480dd99e7a90d6</td>\n",
       "      <td>Tiffany Page</td>\n",
       "      <td>HARD ROCK 2010</td>\n",
       "      <td>7 Years Too Late</td>\n",
       "    </tr>\n",
       "    <tr>\n",
       "      <th>3</th>\n",
       "      <td>9cc0cfd4d7d7885102480dd99e7a90d6</td>\n",
       "      <td>Elvis Costello &amp; The Attractions</td>\n",
       "      <td>HARD ROCK 2010</td>\n",
       "      <td>Accidents Will Happen</td>\n",
       "    </tr>\n",
       "    <tr>\n",
       "      <th>4</th>\n",
       "      <td>9cc0cfd4d7d7885102480dd99e7a90d6</td>\n",
       "      <td>Elvis Costello</td>\n",
       "      <td>HARD ROCK 2010</td>\n",
       "      <td>Alison</td>\n",
       "    </tr>\n",
       "  </tbody>\n",
       "</table>\n",
       "</div>"
      ],
      "text/plain": [
       "                            user_id                       artist_name  \\\n",
       "0  9cc0cfd4d7d7885102480dd99e7a90d6                    Elvis Costello   \n",
       "1  9cc0cfd4d7d7885102480dd99e7a90d6  Elvis Costello & The Attractions   \n",
       "2  9cc0cfd4d7d7885102480dd99e7a90d6                      Tiffany Page   \n",
       "3  9cc0cfd4d7d7885102480dd99e7a90d6  Elvis Costello & The Attractions   \n",
       "4  9cc0cfd4d7d7885102480dd99e7a90d6                    Elvis Costello   \n",
       "\n",
       "    playlist_name                                         track_name  \n",
       "0  HARD ROCK 2010               (the Angels Wanna Wear My) Red Shoes  \n",
       "1  HARD ROCK 2010  (What's So Funny 'Bout) Peace, Love And Unders...  \n",
       "2  HARD ROCK 2010                                   7 Years Too Late  \n",
       "3  HARD ROCK 2010                              Accidents Will Happen  \n",
       "4  HARD ROCK 2010                                             Alison  "
      ]
     },
     "execution_count": 48,
     "metadata": {},
     "output_type": "execute_result"
    }
   ],
   "source": [
    "df_playlists.drop(columns=['track_name'], inplace=True)\n",
    "df_playlists.rename({'trim_track_name':'track_name'}, axis=1, inplace=True)\n",
    "df_playlists.head()"
   ]
  },
  {
   "cell_type": "markdown",
   "metadata": {},
   "source": [
    "A few interesting points -"
   ]
  },
  {
   "cell_type": "code",
   "execution_count": 49,
   "metadata": {},
   "outputs": [
    {
     "name": "stdout",
     "output_type": "stream",
     "text": [
      "Number of artists with only one song in the catalog: 142607\n",
      "Number of artists showing up less than 10 times total: 206455\n",
      "Number of artists with only one user adding them: 149365\n"
     ]
    }
   ],
   "source": [
    "one_hit_wonders = []\n",
    "for k, v in artist_songs.items():\n",
    "    if len(v) == 1:\n",
    "        one_hit_wonders.append(k)\n",
    "print(f'Number of artists with only one song in the catalog: {len(one_hit_wonders)}')\n",
    "\n",
    "artist_occurance = df_playlists['artist_name'].value_counts()\n",
    "rare_artists = artist_occurance[artist_occurance < 10]\n",
    "print(f'Number of artists showing up less than 10 times total: {len(rare_artists)}')\n",
    "\n",
    "artist_fan_count = df_playlists.groupby(['artist_name'])['user_id'].nunique()\n",
    "single_fans = artist_fan_count[artist_fan_count == 1]\n",
    "print(f'Number of artists with only one user adding them: {len(single_fans)}')"
   ]
  },
  {
   "cell_type": "markdown",
   "metadata": {},
   "source": [
    "-----\n",
    "\n",
    "Let's decide upon what we feel is too niche -\n",
    "\n",
    "* If an artist only shows up in one user's playlists\n",
    "\n",
    "* If an artist shows up a total of < 10 times"
   ]
  },
  {
   "cell_type": "code",
   "execution_count": 50,
   "metadata": {},
   "outputs": [],
   "source": [
    "# artist with only their superfan!\n",
    "df_playlists = df_playlists[~df_playlists['artist_name'].isin(list(single_fans.keys()))]"
   ]
  },
  {
   "cell_type": "code",
   "execution_count": 51,
   "metadata": {},
   "outputs": [],
   "source": [
    "# artists who only appear fewer than 10 times total\n",
    "df_playlists = df_playlists[~df_playlists['artist_name'].isin(list(rare_artists.keys()))]"
   ]
  },
  {
   "cell_type": "code",
   "execution_count": 52,
   "metadata": {},
   "outputs": [
    {
     "data": {
      "text/plain": [
       "user_id            15852\n",
       "artist_name        61078\n",
       "playlist_name     152687\n",
       "track_name       1222131\n",
       "dtype: int64"
      ]
     },
     "execution_count": 52,
     "metadata": {},
     "output_type": "execute_result"
    }
   ],
   "source": [
    "# resetting index for the dropped rows\n",
    "df_playlists.reset_index(drop=True, inplace=True)\n",
    "df_playlists.nunique()"
   ]
  },
  {
   "cell_type": "code",
   "execution_count": 55,
   "metadata": {},
   "outputs": [
    {
     "name": "stdout",
     "output_type": "stream",
     "text": [
      "original df len: \t12,791,369\n",
      "cleaned & trimmed: \t12,070,547\n"
     ]
    }
   ],
   "source": [
    "start_len = 12791369\n",
    "print(f'original df len: \\t{start_len:,}')\n",
    "print(f'cleaned & trimmed: \\t{len(df_playlists):,}')"
   ]
  },
  {
   "cell_type": "markdown",
   "metadata": {},
   "source": [
    "Having now dropped over 700,000 rows in the playlists dataset for the niche songs, let's do one final cleanup and export the processed df.\n",
    "\n",
    "While `user_id` is unique ids, different useres could have used the same `playlist_name` string.\n",
    "\n",
    "We'll create uuids for the user-playlist combo and use that as the playlist_id moving forward."
   ]
  },
  {
   "cell_type": "code",
   "execution_count": 62,
   "metadata": {},
   "outputs": [],
   "source": [
    "df_playlists[['user_id', 'playlist_name']] = df_playlists[['user_id', 'playlist_name']].astype('str')\n",
    "zip_cols = zip(df_playlists['user_id'], df_playlists['playlist_name'])\n",
    "df_playlists['uuid_input'] = [''.join(i) for i in zip_cols]\n",
    "unique_userplaylists = list(set(df_playlists['uuid_input']))"
   ]
  },
  {
   "cell_type": "code",
   "execution_count": 63,
   "metadata": {},
   "outputs": [
    {
     "data": {
      "text/html": [
       "<div>\n",
       "<style scoped>\n",
       "    .dataframe tbody tr th:only-of-type {\n",
       "        vertical-align: middle;\n",
       "    }\n",
       "\n",
       "    .dataframe tbody tr th {\n",
       "        vertical-align: top;\n",
       "    }\n",
       "\n",
       "    .dataframe thead th {\n",
       "        text-align: right;\n",
       "    }\n",
       "</style>\n",
       "<table border=\"1\" class=\"dataframe\">\n",
       "  <thead>\n",
       "    <tr style=\"text-align: right;\">\n",
       "      <th></th>\n",
       "      <th>user_id</th>\n",
       "      <th>artist_name</th>\n",
       "      <th>playlist_name</th>\n",
       "      <th>track_name</th>\n",
       "      <th>uuid_input</th>\n",
       "    </tr>\n",
       "  </thead>\n",
       "  <tbody>\n",
       "    <tr>\n",
       "      <th>0</th>\n",
       "      <td>9cc0cfd4d7d7885102480dd99e7a90d6</td>\n",
       "      <td>Elvis Costello</td>\n",
       "      <td>HARD ROCK 2010</td>\n",
       "      <td>(the Angels Wanna Wear My) Red Shoes</td>\n",
       "      <td>9cc0cfd4d7d7885102480dd99e7a90d6HARD ROCK 2010</td>\n",
       "    </tr>\n",
       "    <tr>\n",
       "      <th>1</th>\n",
       "      <td>9cc0cfd4d7d7885102480dd99e7a90d6</td>\n",
       "      <td>Elvis Costello &amp; The Attractions</td>\n",
       "      <td>HARD ROCK 2010</td>\n",
       "      <td>(What's So Funny 'Bout) Peace, Love And Unders...</td>\n",
       "      <td>9cc0cfd4d7d7885102480dd99e7a90d6HARD ROCK 2010</td>\n",
       "    </tr>\n",
       "    <tr>\n",
       "      <th>2</th>\n",
       "      <td>9cc0cfd4d7d7885102480dd99e7a90d6</td>\n",
       "      <td>Elvis Costello &amp; The Attractions</td>\n",
       "      <td>HARD ROCK 2010</td>\n",
       "      <td>Accidents Will Happen</td>\n",
       "      <td>9cc0cfd4d7d7885102480dd99e7a90d6HARD ROCK 2010</td>\n",
       "    </tr>\n",
       "  </tbody>\n",
       "</table>\n",
       "</div>"
      ],
      "text/plain": [
       "                            user_id                       artist_name  \\\n",
       "0  9cc0cfd4d7d7885102480dd99e7a90d6                    Elvis Costello   \n",
       "1  9cc0cfd4d7d7885102480dd99e7a90d6  Elvis Costello & The Attractions   \n",
       "2  9cc0cfd4d7d7885102480dd99e7a90d6  Elvis Costello & The Attractions   \n",
       "\n",
       "    playlist_name                                         track_name  \\\n",
       "0  HARD ROCK 2010               (the Angels Wanna Wear My) Red Shoes   \n",
       "1  HARD ROCK 2010  (What's So Funny 'Bout) Peace, Love And Unders...   \n",
       "2  HARD ROCK 2010                              Accidents Will Happen   \n",
       "\n",
       "                                       uuid_input  \n",
       "0  9cc0cfd4d7d7885102480dd99e7a90d6HARD ROCK 2010  \n",
       "1  9cc0cfd4d7d7885102480dd99e7a90d6HARD ROCK 2010  \n",
       "2  9cc0cfd4d7d7885102480dd99e7a90d6HARD ROCK 2010  "
      ]
     },
     "execution_count": 63,
     "metadata": {},
     "output_type": "execute_result"
    }
   ],
   "source": [
    "df_playlists.head(3)"
   ]
  },
  {
   "cell_type": "code",
   "execution_count": 64,
   "metadata": {},
   "outputs": [
    {
     "data": {
      "text/plain": [
       "playlist_name    152687\n",
       "uuid_input       226486\n",
       "dtype: int64"
      ]
     },
     "execution_count": 64,
     "metadata": {},
     "output_type": "execute_result"
    }
   ],
   "source": [
    "# confirming the suspicion that different users have the same playlist_name\n",
    "df_playlists[['playlist_name', 'uuid_input']].nunique()"
   ]
  },
  {
   "cell_type": "code",
   "execution_count": 70,
   "metadata": {},
   "outputs": [
    {
     "name": "stdout",
     "output_type": "stream",
     "text": [
      "226486\n",
      "226486\n"
     ]
    }
   ],
   "source": [
    "# played around with the id length until each entry was unique\n",
    "uuid_dict = {}\n",
    "uuids = []\n",
    "for i in unique_userplaylists:\n",
    "    hash_val = abs(hash(i)) % (10 ** 11)\n",
    "    uuid_dict[i] = hash_val\n",
    "    uuids.append(hash_val)\n",
    "print(len(uuids))\n",
    "print(len(set(uuids)))"
   ]
  },
  {
   "cell_type": "code",
   "execution_count": 71,
   "metadata": {},
   "outputs": [],
   "source": [
    "df_playlists['playlist_uuid'] = df_playlists['uuid_input'].map(uuid_dict)"
   ]
  },
  {
   "cell_type": "code",
   "execution_count": 72,
   "metadata": {},
   "outputs": [
    {
     "data": {
      "text/html": [
       "<div>\n",
       "<style scoped>\n",
       "    .dataframe tbody tr th:only-of-type {\n",
       "        vertical-align: middle;\n",
       "    }\n",
       "\n",
       "    .dataframe tbody tr th {\n",
       "        vertical-align: top;\n",
       "    }\n",
       "\n",
       "    .dataframe thead th {\n",
       "        text-align: right;\n",
       "    }\n",
       "</style>\n",
       "<table border=\"1\" class=\"dataframe\">\n",
       "  <thead>\n",
       "    <tr style=\"text-align: right;\">\n",
       "      <th></th>\n",
       "      <th>artist_name</th>\n",
       "      <th>track_name</th>\n",
       "      <th>playlist_uuid</th>\n",
       "      <th>user_id</th>\n",
       "    </tr>\n",
       "  </thead>\n",
       "  <tbody>\n",
       "    <tr>\n",
       "      <th>0</th>\n",
       "      <td>Elvis Costello</td>\n",
       "      <td>(the Angels Wanna Wear My) Red Shoes</td>\n",
       "      <td>58048995723</td>\n",
       "      <td>9cc0cfd4d7d7885102480dd99e7a90d6</td>\n",
       "    </tr>\n",
       "    <tr>\n",
       "      <th>1</th>\n",
       "      <td>Elvis Costello &amp; The Attractions</td>\n",
       "      <td>(What's So Funny 'Bout) Peace, Love And Unders...</td>\n",
       "      <td>58048995723</td>\n",
       "      <td>9cc0cfd4d7d7885102480dd99e7a90d6</td>\n",
       "    </tr>\n",
       "    <tr>\n",
       "      <th>2</th>\n",
       "      <td>Elvis Costello &amp; The Attractions</td>\n",
       "      <td>Accidents Will Happen</td>\n",
       "      <td>58048995723</td>\n",
       "      <td>9cc0cfd4d7d7885102480dd99e7a90d6</td>\n",
       "    </tr>\n",
       "    <tr>\n",
       "      <th>3</th>\n",
       "      <td>Elvis Costello</td>\n",
       "      <td>Alison</td>\n",
       "      <td>58048995723</td>\n",
       "      <td>9cc0cfd4d7d7885102480dd99e7a90d6</td>\n",
       "    </tr>\n",
       "    <tr>\n",
       "      <th>4</th>\n",
       "      <td>Lissie</td>\n",
       "      <td>All Be Okay</td>\n",
       "      <td>58048995723</td>\n",
       "      <td>9cc0cfd4d7d7885102480dd99e7a90d6</td>\n",
       "    </tr>\n",
       "  </tbody>\n",
       "</table>\n",
       "</div>"
      ],
      "text/plain": [
       "                        artist_name  \\\n",
       "0                    Elvis Costello   \n",
       "1  Elvis Costello & The Attractions   \n",
       "2  Elvis Costello & The Attractions   \n",
       "3                    Elvis Costello   \n",
       "4                            Lissie   \n",
       "\n",
       "                                          track_name  playlist_uuid  \\\n",
       "0               (the Angels Wanna Wear My) Red Shoes    58048995723   \n",
       "1  (What's So Funny 'Bout) Peace, Love And Unders...    58048995723   \n",
       "2                              Accidents Will Happen    58048995723   \n",
       "3                                             Alison    58048995723   \n",
       "4                                        All Be Okay    58048995723   \n",
       "\n",
       "                            user_id  \n",
       "0  9cc0cfd4d7d7885102480dd99e7a90d6  \n",
       "1  9cc0cfd4d7d7885102480dd99e7a90d6  \n",
       "2  9cc0cfd4d7d7885102480dd99e7a90d6  \n",
       "3  9cc0cfd4d7d7885102480dd99e7a90d6  \n",
       "4  9cc0cfd4d7d7885102480dd99e7a90d6  "
      ]
     },
     "execution_count": 72,
     "metadata": {},
     "output_type": "execute_result"
    }
   ],
   "source": [
    "df_playlists.drop(['playlist_name', 'uuid_input'], axis=1, inplace=True)\n",
    "df_playlists = df_playlists[['artist_name', 'track_name', 'playlist_uuid', 'user_id']]\n",
    "df_playlists.head()"
   ]
  },
  {
   "cell_type": "code",
   "execution_count": 73,
   "metadata": {},
   "outputs": [],
   "source": [
    "df_playlists.to_csv(processed_data_path + 'df_playlists.csv')"
   ]
  },
  {
   "cell_type": "code",
   "execution_count": 74,
   "metadata": {},
   "outputs": [
    {
     "name": "stderr",
     "output_type": "stream",
     "text": [
      "100%|██████████| 1747681/1747681 [18:13<00:00, 1598.63it/s]\n"
     ]
    }
   ],
   "source": [
    "# create and export artist-tracks dictionary\n",
    "\n",
    "trim_df = df_playlists[['artist_name', 'track_name']].copy()\n",
    "trim_df.drop_duplicates(inplace=True)\n",
    "\n",
    "artist_songs_trimmed = {}\n",
    "\n",
    "for row in tqdm(trim_df.iterrows(), total=len(trim_df)):\n",
    "    artist, track = row[1][['artist_name', 'track_name']]\n",
    "    if artist in artist_songs_trimmed:\n",
    "        if track not in artist_songs_trimmed[artist]:\n",
    "            artist_songs_trimmed[artist].append(track)\n",
    "        else:\n",
    "            pass\n",
    "    else:\n",
    "        artist_songs_trimmed[artist] = [track]\n",
    "\n",
    "with open(processed_data_path + 'artist-songs-trimmed.json', 'w') as f:\n",
    "    json.dump(artist_songs_trimmed, f)"
   ]
  },
  {
   "cell_type": "markdown",
   "metadata": {},
   "source": [
    "-----\n",
    "-----\n",
    "-----\n"
   ]
  }
 ],
 "metadata": {
  "interpreter": {
   "hash": "8601e0c59fdd84b5196da23eacd8a01712d8fce1a4734de58b65c3106d03cb38"
  },
  "kernelspec": {
   "display_name": "Python 3.8.13 ('spotify')",
   "language": "python",
   "name": "python3"
  },
  "language_info": {
   "codemirror_mode": {
    "name": "ipython",
    "version": 3
   },
   "file_extension": ".py",
   "mimetype": "text/x-python",
   "name": "python",
   "nbconvert_exporter": "python",
   "pygments_lexer": "ipython3",
   "version": "3.8.13"
  },
  "orig_nbformat": 4
 },
 "nbformat": 4,
 "nbformat_minor": 2
}
