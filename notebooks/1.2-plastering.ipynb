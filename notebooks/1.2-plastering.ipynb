{
 "cells": [
  {
   "cell_type": "markdown",
   "metadata": {},
   "source": [
    "### matching our new data to our dfs\n",
    "\n",
    "Now that we've scraped the data needed to make sense of our dfs, let's get to matching that data!"
   ]
  },
  {
   "cell_type": "markdown",
   "metadata": {},
   "source": []
  }
 ],
 "metadata": {
  "interpreter": {
   "hash": "8601e0c59fdd84b5196da23eacd8a01712d8fce1a4734de58b65c3106d03cb38"
  },
  "kernelspec": {
   "display_name": "Python 3.8.13 ('spotify')",
   "language": "python",
   "name": "python3"
  },
  "language_info": {
   "name": "python",
   "version": "3.8.13"
  },
  "orig_nbformat": 4
 },
 "nbformat": 4,
 "nbformat_minor": 2
}
